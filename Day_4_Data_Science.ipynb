{
 "cells": [
  {
   "cell_type": "markdown",
   "id": "5efdae76-80a0-455b-b98b-d49833eb44bd",
   "metadata": {},
   "source": [
    "## String is Immutable. Any character of string can't be changed because it's disturbed the mutabiltiy of string."
   ]
  },
  {
   "cell_type": "code",
   "execution_count": 1,
   "id": "ee04ff18-7976-4a03-9535-77e0f9af6eaa",
   "metadata": {},
   "outputs": [],
   "source": [
    "name = \"Data Science Masters\""
   ]
  },
  {
   "cell_type": "code",
   "execution_count": 2,
   "id": "1baae636-869c-4efc-b5ba-00e04873be96",
   "metadata": {},
   "outputs": [
    {
     "data": {
      "text/plain": [
       "'dATA sCIENCE mASTERS'"
      ]
     },
     "execution_count": 2,
     "metadata": {},
     "output_type": "execute_result"
    }
   ],
   "source": [
    "name.swapcase()"
   ]
  },
  {
   "cell_type": "code",
   "execution_count": 3,
   "id": "b427c485-3d0d-4269-bfdf-6d60abc82c95",
   "metadata": {},
   "outputs": [
    {
     "data": {
      "text/plain": [
       "'Data Science Masters'"
      ]
     },
     "execution_count": 3,
     "metadata": {},
     "output_type": "execute_result"
    }
   ],
   "source": [
    "name.title()"
   ]
  },
  {
   "cell_type": "code",
   "execution_count": 4,
   "id": "d0cd5146-cc78-416c-b1e5-70942008b8c9",
   "metadata": {},
   "outputs": [
    {
     "data": {
      "text/plain": [
       "'Data science masters'"
      ]
     },
     "execution_count": 4,
     "metadata": {},
     "output_type": "execute_result"
    }
   ],
   "source": [
    "name.capitalize()"
   ]
  },
  {
   "cell_type": "markdown",
   "id": "4d3bc9f7-5495-4ea3-b7bd-ed345205e736",
   "metadata": {},
   "source": [
    "## Reversing a String"
   ]
  },
  {
   "cell_type": "code",
   "execution_count": 5,
   "id": "8423a015-4417-4c4a-aa6b-6231afb523c1",
   "metadata": {},
   "outputs": [
    {
     "data": {
      "text/plain": [
       "'sretsaM ecneicS ataD'"
      ]
     },
     "execution_count": 5,
     "metadata": {},
     "output_type": "execute_result"
    }
   ],
   "source": [
    "name[::-1]"
   ]
  },
  {
   "cell_type": "code",
   "execution_count": 6,
   "id": "b41a75bf-c1db-42de-96ef-280e282e9265",
   "metadata": {},
   "outputs": [
    {
     "data": {
      "text/plain": [
       "'s r e t s a M   e c n e i c S   a t a D'"
      ]
     },
     "execution_count": 6,
     "metadata": {},
     "output_type": "execute_result"
    }
   ],
   "source": [
    "' '.join(reversed(name))"
   ]
  },
  {
   "cell_type": "code",
   "execution_count": 7,
   "id": "f45e0491-9e8e-4981-b570-5f38ddbe2204",
   "metadata": {},
   "outputs": [
    {
     "data": {
      "text/plain": [
       "'NKrishaKrishiKrishk'"
      ]
     },
     "execution_count": 7,
     "metadata": {},
     "output_type": "execute_result"
    }
   ],
   "source": [
    "\"Krish\".join(\"Naik\")"
   ]
  },
  {
   "cell_type": "code",
   "execution_count": 8,
   "id": "c023cc48-9700-4d39-94e7-4957c1e427aa",
   "metadata": {},
   "outputs": [
    {
     "data": {
      "text/plain": [
       "'a'"
      ]
     },
     "execution_count": 8,
     "metadata": {},
     "output_type": "execute_result"
    }
   ],
   "source": [
    "\"Krish\".join(\"a\")"
   ]
  },
  {
   "cell_type": "code",
   "execution_count": 9,
   "id": "8aa128b0-e0d6-4f97-b00d-fc36ec4e85a6",
   "metadata": {},
   "outputs": [
    {
     "data": {
      "text/plain": [
       "'a'"
      ]
     },
     "execution_count": 9,
     "metadata": {},
     "output_type": "execute_result"
    }
   ],
   "source": [
    "\"\".join(\"a\")"
   ]
  },
  {
   "cell_type": "code",
   "execution_count": 10,
   "id": "2ebca237-0b06-4f14-a66f-7485d19e1f93",
   "metadata": {},
   "outputs": [
    {
     "data": {
      "text/plain": [
       "'a b c d'"
      ]
     },
     "execution_count": 10,
     "metadata": {},
     "output_type": "execute_result"
    }
   ],
   "source": [
    "\" \".join(\"abcd\")"
   ]
  },
  {
   "cell_type": "code",
   "execution_count": 11,
   "id": "2fd09ee9-4cd9-4e3b-89da-64895d68b92a",
   "metadata": {},
   "outputs": [
    {
     "data": {
      "text/plain": [
       "'P W S K I L L S'"
      ]
     },
     "execution_count": 11,
     "metadata": {},
     "output_type": "execute_result"
    }
   ],
   "source": [
    "' '.join(\"PWSKILLS\")"
   ]
  },
  {
   "cell_type": "code",
   "execution_count": 12,
   "id": "e07fd20f-58d2-4e7e-8bd1-87bbf8bdcd2e",
   "metadata": {},
   "outputs": [
    {
     "data": {
      "text/plain": [
       "'ant'"
      ]
     },
     "execution_count": 12,
     "metadata": {},
     "output_type": "execute_result"
    }
   ],
   "source": [
    "''.join(\"ant\")"
   ]
  },
  {
   "cell_type": "code",
   "execution_count": 13,
   "id": "a3a82cce-0542-4f2a-867a-661918ecfb9a",
   "metadata": {},
   "outputs": [
    {
     "data": {
      "text/plain": [
       "'t n a'"
      ]
     },
     "execution_count": 13,
     "metadata": {},
     "output_type": "execute_result"
    }
   ],
   "source": [
    "' '.join(reversed(\"ant\"))"
   ]
  },
  {
   "cell_type": "code",
   "execution_count": 14,
   "id": "17026d74-1669-4717-a6b5-c117b9a71a04",
   "metadata": {},
   "outputs": [
    {
     "data": {
      "text/plain": [
       "'SLLIKSWP'"
      ]
     },
     "execution_count": 14,
     "metadata": {},
     "output_type": "execute_result"
    }
   ],
   "source": [
    "''.join(reversed(\"PWSKILLS\"))"
   ]
  },
  {
   "cell_type": "code",
   "execution_count": 15,
   "id": "bec8f7c9-1498-4b43-87aa-93bd3688bf71",
   "metadata": {},
   "outputs": [
    {
     "data": {
      "text/plain": [
       "'t Pwskills n Pwskills a'"
      ]
     },
     "execution_count": 15,
     "metadata": {},
     "output_type": "execute_result"
    }
   ],
   "source": [
    "' Pwskills '.join(reversed(\"ant\"))"
   ]
  },
  {
   "cell_type": "code",
   "execution_count": 16,
   "id": "5f0ebe91-249e-4c86-ba28-6e9a2b367ab3",
   "metadata": {},
   "outputs": [
    {
     "data": {
      "text/plain": [
       "['t', 'n', 'a']"
      ]
     },
     "execution_count": 16,
     "metadata": {},
     "output_type": "execute_result"
    }
   ],
   "source": [
    "## typecasting\n",
    "list(reversed(\"ant\"))"
   ]
  },
  {
   "cell_type": "code",
   "execution_count": 17,
   "id": "58f5d3be-efc8-44ad-bb5d-4652b32cfa76",
   "metadata": {},
   "outputs": [
    {
     "data": {
      "text/plain": [
       "'<reversed object at 0x7f84977c2470>'"
      ]
     },
     "execution_count": 17,
     "metadata": {},
     "output_type": "execute_result"
    }
   ],
   "source": [
    "str(reversed(\"ant\"))"
   ]
  },
  {
   "cell_type": "code",
   "execution_count": 18,
   "id": "d74fc93d-9d1c-40aa-934e-dee9c4e2de3d",
   "metadata": {},
   "outputs": [],
   "source": [
    "str1 = \"Pw is a good company\""
   ]
  },
  {
   "cell_type": "code",
   "execution_count": 19,
   "id": "5ba89d02-fdcc-4e2d-944c-f30d1446f8bb",
   "metadata": {},
   "outputs": [
    {
     "data": {
      "text/plain": [
       "'PSkillswSkills SkillsiSkillssSkills SkillsaSkills SkillsgSkillsoSkillsoSkillsdSkills SkillscSkillsoSkillsmSkillspSkillsaSkillsnSkillsy'"
      ]
     },
     "execution_count": 19,
     "metadata": {},
     "output_type": "execute_result"
    }
   ],
   "source": [
    "\"Skills\".join(str1)"
   ]
  },
  {
   "cell_type": "code",
   "execution_count": 20,
   "id": "147e3613-c8c6-431e-97db-129e19f5a488",
   "metadata": {},
   "outputs": [
    {
     "name": "stdout",
     "output_type": "stream",
     "text": [
      "sretsaM ecneicS ataD"
     ]
    }
   ],
   "source": [
    "for i in list(reversed(name)):\n",
    "    print(i,end='')"
   ]
  },
  {
   "cell_type": "code",
   "execution_count": 21,
   "id": "bc9df46f-1b62-48c7-aac6-7b7eacb4ee8f",
   "metadata": {},
   "outputs": [],
   "source": [
    "## Removing Character From the end of string "
   ]
  },
  {
   "cell_type": "code",
   "execution_count": 22,
   "id": "f5de2f3b-4e02-4cd9-81ae-dd9066a9ee80",
   "metadata": {},
   "outputs": [],
   "source": [
    "string_a = \"  pwskills  \""
   ]
  },
  {
   "cell_type": "code",
   "execution_count": 23,
   "id": "867e1203-2c7a-448a-ad8f-7b8ac9f0e280",
   "metadata": {},
   "outputs": [
    {
     "data": {
      "text/plain": [
       "'pwskills'"
      ]
     },
     "execution_count": 23,
     "metadata": {},
     "output_type": "execute_result"
    }
   ],
   "source": [
    "string_a.strip(\" \")    "
   ]
  },
  {
   "cell_type": "code",
   "execution_count": 24,
   "id": "4b08a56e-47b2-4dcf-a9d6-b8c89b25e9c4",
   "metadata": {},
   "outputs": [],
   "source": [
    "string_b = \"****    pwskills    ****\""
   ]
  },
  {
   "cell_type": "code",
   "execution_count": 25,
   "id": "172c9f56-e007-4545-8859-18fac965fccc",
   "metadata": {},
   "outputs": [
    {
     "data": {
      "text/plain": [
       "'pwskills'"
      ]
     },
     "execution_count": 25,
     "metadata": {},
     "output_type": "execute_result"
    }
   ],
   "source": [
    "string_b.strip(\" * \")"
   ]
  },
  {
   "cell_type": "code",
   "execution_count": 26,
   "id": "3128e493-8ca2-4906-8f47-c6dc949dae4c",
   "metadata": {},
   "outputs": [
    {
     "data": {
      "text/plain": [
       "'pwskills  '"
      ]
     },
     "execution_count": 26,
     "metadata": {},
     "output_type": "execute_result"
    }
   ],
   "source": [
    "string_a.lstrip()"
   ]
  },
  {
   "cell_type": "code",
   "execution_count": 27,
   "id": "ed8a8ddb-0663-4b47-92f1-222f5a9f3507",
   "metadata": {},
   "outputs": [
    {
     "data": {
      "text/plain": [
       "'  pwskills'"
      ]
     },
     "execution_count": 27,
     "metadata": {},
     "output_type": "execute_result"
    }
   ],
   "source": [
    "string_a.rstrip()"
   ]
  },
  {
   "cell_type": "code",
   "execution_count": 28,
   "id": "e7f55108-f471-48af-ba92-ad52768999d4",
   "metadata": {},
   "outputs": [
    {
     "data": {
      "text/plain": [
       "'Greeting from Pwskills'"
      ]
     },
     "execution_count": 28,
     "metadata": {},
     "output_type": "execute_result"
    }
   ],
   "source": [
    "string_n=\"Greeting to Pwskills\"\n",
    "string_n.replace(\"to\",\"from\")"
   ]
  },
  {
   "cell_type": "code",
   "execution_count": 29,
   "id": "fa92885a-f083-4db3-84b6-51853dab125b",
   "metadata": {},
   "outputs": [],
   "source": [
    "name = \"Krish\""
   ]
  },
  {
   "cell_type": "code",
   "execution_count": 30,
   "id": "314ab1e5-b09b-4589-9301-e1f4c257703b",
   "metadata": {},
   "outputs": [],
   "source": [
    "name = \"Pwskills\""
   ]
  },
  {
   "cell_type": "code",
   "execution_count": 31,
   "id": "b59007cd-b4d4-4291-b0c5-96090881e9a4",
   "metadata": {},
   "outputs": [
    {
     "data": {
      "text/plain": [
       "'Welcome to Pwskills'"
      ]
     },
     "execution_count": 31,
     "metadata": {},
     "output_type": "execute_result"
    }
   ],
   "source": [
    "string_n=\"Greeting to Pwskills\"\n",
    "string_n.replace(\"Greeting\",\"Welcome\")"
   ]
  },
  {
   "cell_type": "code",
   "execution_count": 32,
   "id": "1561419d-3d2e-4523-b70b-4f32f1d92c04",
   "metadata": {},
   "outputs": [
    {
     "ename": "TypeError",
     "evalue": "'str' object does not support item assignment",
     "output_type": "error",
     "traceback": [
      "\u001b[0;31m---------------------------------------------------------------------------\u001b[0m",
      "\u001b[0;31mTypeError\u001b[0m                                 Traceback (most recent call last)",
      "Cell \u001b[0;32mIn[32], line 1\u001b[0m\n\u001b[0;32m----> 1\u001b[0m \u001b[43mname\u001b[49m\u001b[43m[\u001b[49m\u001b[38;5;241;43m0\u001b[39;49m\u001b[43m]\u001b[49m\u001b[38;5;241m=\u001b[39m\u001b[38;5;124m'\u001b[39m\u001b[38;5;124mK\u001b[39m\u001b[38;5;124m'\u001b[39m\n",
      "\u001b[0;31mTypeError\u001b[0m: 'str' object does not support item assignment"
     ]
    }
   ],
   "source": [
    " name[0]='K'"
   ]
  },
  {
   "cell_type": "code",
   "execution_count": 33,
   "id": "30c3bf0b-bf4f-4f94-b4cd-4c9ffaec2308",
   "metadata": {},
   "outputs": [],
   "source": [
    "string_n=\"Greeting to Pwskills\"\n",
    "var_a = string_n.replace(\"G\",\"T\")"
   ]
  },
  {
   "cell_type": "code",
   "execution_count": 34,
   "id": "5e82c7a4-8796-4d60-9806-7410957dc6f9",
   "metadata": {},
   "outputs": [
    {
     "name": "stdout",
     "output_type": "stream",
     "text": [
      "140207398255344\n",
      "140207398245984\n"
     ]
    }
   ],
   "source": [
    "print(id(string_n))\n",
    "print(id(var_a))"
   ]
  },
  {
   "cell_type": "code",
   "execution_count": 35,
   "id": "d2837ce0-2180-47f4-a920-40cc035cb36c",
   "metadata": {},
   "outputs": [
    {
     "data": {
      "text/plain": [
       "'hello world'"
      ]
     },
     "execution_count": 35,
     "metadata": {},
     "output_type": "execute_result"
    }
   ],
   "source": [
    "'hello world'"
   ]
  },
  {
   "cell_type": "code",
   "execution_count": 36,
   "id": "a8e0c958-b048-486a-bf7e-d542a8d9a58e",
   "metadata": {},
   "outputs": [
    {
     "data": {
      "text/plain": [
       "'Greeting to Pwskills'"
      ]
     },
     "execution_count": 36,
     "metadata": {},
     "output_type": "execute_result"
    }
   ],
   "source": [
    "string_m=\"test@gmail.com\"\n",
    "var_b= string_n.replace(\"@\",\" \")\n",
    "var_b"
   ]
  },
  {
   "cell_type": "code",
   "execution_count": 37,
   "id": "94ca69b3-cb73-4b24-9478-ecc48540f955",
   "metadata": {},
   "outputs": [
    {
     "data": {
      "text/plain": [
       "'hello \\nworld'"
      ]
     },
     "execution_count": 37,
     "metadata": {},
     "output_type": "execute_result"
    }
   ],
   "source": [
    "'hello \\nworld'"
   ]
  },
  {
   "cell_type": "code",
   "execution_count": 38,
   "id": "44374b80-cb81-4885-bdc2-00cc791aa605",
   "metadata": {},
   "outputs": [
    {
     "data": {
      "text/plain": [
       "'hello   world'"
      ]
     },
     "execution_count": 38,
     "metadata": {},
     "output_type": "execute_result"
    }
   ],
   "source": [
    "'hello \\tworld'.expandtabs()"
   ]
  },
  {
   "cell_type": "code",
   "execution_count": 39,
   "id": "1dbd8bdc-75d9-4ea4-8ec6-24ad51a19821",
   "metadata": {},
   "outputs": [],
   "source": [
    "str1 = \"Welcome to pwskills .Welcome to Dat cience Masters\""
   ]
  },
  {
   "cell_type": "code",
   "execution_count": 40,
   "id": "86b1955f-1923-418c-8833-5faf15e35395",
   "metadata": {},
   "outputs": [
    {
     "data": {
      "text/plain": [
       "'Welcome to pwskills .Welcome to Data cience Masters'"
      ]
     },
     "execution_count": 40,
     "metadata": {},
     "output_type": "execute_result"
    }
   ],
   "source": [
    "str1.replace(\"Dat\",\"Data\")"
   ]
  },
  {
   "cell_type": "code",
   "execution_count": 41,
   "id": "6a1f9221-fc9f-4e46-a9cf-da8857e37ee4",
   "metadata": {},
   "outputs": [
    {
     "data": {
      "text/plain": [
       "'Welcome to pwskills .Welcome to Dat Science Masters'"
      ]
     },
     "execution_count": 41,
     "metadata": {},
     "output_type": "execute_result"
    }
   ],
   "source": [
    "str1.replace(\"cience\",\"Science\")"
   ]
  },
  {
   "cell_type": "markdown",
   "id": "99481371-9fce-4e62-8187-f334cf62b6f2",
   "metadata": {},
   "source": [
    "## If you don't want to write multiple times your code so how to write it one line given above code"
   ]
  },
  {
   "cell_type": "code",
   "execution_count": 42,
   "id": "a2810e0b-b8e7-4b85-a7e2-eada979b664e",
   "metadata": {},
   "outputs": [
    {
     "data": {
      "text/plain": [
       "'Welcome to pwskills .Welcome to Data Science Masters'"
      ]
     },
     "execution_count": 42,
     "metadata": {},
     "output_type": "execute_result"
    }
   ],
   "source": [
    "str1.replace(\"Dat\",\"Data\").replace(\"cience\",\"Science\")"
   ]
  },
  {
   "cell_type": "code",
   "execution_count": 43,
   "id": "1c3adead-6986-453e-b940-a2bc0620cdcd",
   "metadata": {},
   "outputs": [
    {
     "data": {
      "text/plain": [
       "False"
      ]
     },
     "execution_count": 43,
     "metadata": {},
     "output_type": "execute_result"
    }
   ],
   "source": [
    "str1.isupper()"
   ]
  },
  {
   "cell_type": "code",
   "execution_count": 44,
   "id": "ea188f6a-5c50-407a-a82b-92df471497ae",
   "metadata": {},
   "outputs": [],
   "source": [
    "str2 = \"KRISH\""
   ]
  },
  {
   "cell_type": "code",
   "execution_count": 45,
   "id": "ccc6e17f-4e64-42c1-91b3-3dbe18bd0d04",
   "metadata": {},
   "outputs": [
    {
     "data": {
      "text/plain": [
       "True"
      ]
     },
     "execution_count": 45,
     "metadata": {},
     "output_type": "execute_result"
    }
   ],
   "source": [
    "str2.isupper()"
   ]
  },
  {
   "cell_type": "code",
   "execution_count": 46,
   "id": "7a3e8209-583d-43da-afe0-43fc1c065d75",
   "metadata": {},
   "outputs": [
    {
     "data": {
      "text/plain": [
       "False"
      ]
     },
     "execution_count": 46,
     "metadata": {},
     "output_type": "execute_result"
    }
   ],
   "source": [
    "str1.isspace()"
   ]
  },
  {
   "cell_type": "code",
   "execution_count": 47,
   "id": "8cf2b74f-d5e1-4f79-b81c-9cc510480f6c",
   "metadata": {},
   "outputs": [
    {
     "data": {
      "text/plain": [
       "True"
      ]
     },
     "execution_count": 47,
     "metadata": {},
     "output_type": "execute_result"
    }
   ],
   "source": [
    "' '.isspace()"
   ]
  },
  {
   "cell_type": "code",
   "execution_count": 48,
   "id": "5fbc1973-4bbd-47f4-802e-7400ec2c5c97",
   "metadata": {},
   "outputs": [
    {
     "name": "stdout",
     "output_type": "stream",
     "text": [
      "Hello\n"
     ]
    }
   ],
   "source": [
    "if \" \".isspace():\n",
    "    print(\"Hello\")"
   ]
  },
  {
   "cell_type": "code",
   "execution_count": 49,
   "id": "11fbcfcb-86c5-4335-809a-4de7f92f00eb",
   "metadata": {},
   "outputs": [],
   "source": [
    "str3 = \"Pwskills\""
   ]
  },
  {
   "cell_type": "code",
   "execution_count": 50,
   "id": "d3cd4e9b-4527-4cec-8273-b061ef647384",
   "metadata": {},
   "outputs": [
    {
     "data": {
      "text/plain": [
       "True"
      ]
     },
     "execution_count": 50,
     "metadata": {},
     "output_type": "execute_result"
    }
   ],
   "source": [
    "str3.endswith('s')"
   ]
  },
  {
   "cell_type": "code",
   "execution_count": 51,
   "id": "34875ad9-5733-4c18-8741-613941c6b93a",
   "metadata": {},
   "outputs": [
    {
     "data": {
      "text/plain": [
       "False"
      ]
     },
     "execution_count": 51,
     "metadata": {},
     "output_type": "execute_result"
    }
   ],
   "source": [
    "str3.startswith('p')"
   ]
  },
  {
   "cell_type": "code",
   "execution_count": 52,
   "id": "eb463029-03aa-4140-8389-16f11b6824f0",
   "metadata": {},
   "outputs": [
    {
     "data": {
      "text/plain": [
       "True"
      ]
     },
     "execution_count": 52,
     "metadata": {},
     "output_type": "execute_result"
    }
   ],
   "source": [
    "## check if all the char in string are alphanumeric\n",
    "a = \"abcd1234\"\n",
    "a.isalnum()"
   ]
  },
  {
   "cell_type": "code",
   "execution_count": 53,
   "id": "29472412-a334-415f-aa7f-4a2469d96721",
   "metadata": {},
   "outputs": [],
   "source": [
    "## to count the number of character in the strings"
   ]
  },
  {
   "cell_type": "code",
   "execution_count": 54,
   "id": "c2e7549e-1204-4051-b8aa-73f466d8058c",
   "metadata": {},
   "outputs": [
    {
     "name": "stdout",
     "output_type": "stream",
     "text": [
      "5\n"
     ]
    }
   ],
   "source": [
    "str2 = \"KRISH\"\n",
    "count = 0\n",
    "for i in str2:\n",
    "    count = count + 1\n",
    "    \n",
    "print(count)"
   ]
  },
  {
   "cell_type": "code",
   "execution_count": 55,
   "id": "254d1f3b-0568-4743-93f0-2cc7bd5eed4e",
   "metadata": {},
   "outputs": [
    {
     "data": {
      "text/plain": [
       "5"
      ]
     },
     "execution_count": 55,
     "metadata": {},
     "output_type": "execute_result"
    }
   ],
   "source": [
    "len(str2)"
   ]
  },
  {
   "cell_type": "code",
   "execution_count": 56,
   "id": "0a766d56-f06a-4ea6-b890-979e6c3dde06",
   "metadata": {},
   "outputs": [
    {
     "data": {
      "text/plain": [
       "'Pwskills'"
      ]
     },
     "execution_count": 56,
     "metadata": {},
     "output_type": "execute_result"
    }
   ],
   "source": [
    "str3"
   ]
  },
  {
   "cell_type": "code",
   "execution_count": 57,
   "id": "ed2f0f17-43c2-40ae-a527-87cca4f895f6",
   "metadata": {},
   "outputs": [
    {
     "name": "stdout",
     "output_type": "stream",
     "text": [
      "K\n",
      "R\n",
      "I\n",
      "S\n",
      "H\n"
     ]
    }
   ],
   "source": [
    "for i in str2:\n",
    "    print(i)"
   ]
  },
  {
   "cell_type": "code",
   "execution_count": 58,
   "id": "634c1946-436e-45e3-8dd2-3239e3058941",
   "metadata": {},
   "outputs": [
    {
     "name": "stdout",
     "output_type": "stream",
     "text": [
      "P\n",
      "w\n",
      "s\n",
      "k\n",
      "i\n",
      "l\n",
      "l\n",
      "s\n"
     ]
    }
   ],
   "source": [
    "for i in range(len(str3)):\n",
    "    print(str3[i])"
   ]
  },
  {
   "cell_type": "code",
   "execution_count": 59,
   "id": "6d92ab3a-f3bc-4a77-9dd3-9575e49d949d",
   "metadata": {},
   "outputs": [
    {
     "data": {
      "text/plain": [
       "range(0, 8)"
      ]
     },
     "execution_count": 59,
     "metadata": {},
     "output_type": "execute_result"
    }
   ],
   "source": [
    "range(len(str3))"
   ]
  },
  {
   "cell_type": "code",
   "execution_count": 60,
   "id": "5f39abb2-9858-4099-a403-0b5eb4c300d6",
   "metadata": {},
   "outputs": [
    {
     "name": "stdout",
     "output_type": "stream",
     "text": [
      "0 = P\n",
      "1 = w\n",
      "2 = s\n",
      "3 = k\n",
      "4 = i\n",
      "5 = l\n",
      "6 = l\n",
      "7 = s\n"
     ]
    }
   ],
   "source": [
    "for i in range(len(str3)):\n",
    "    print(i, \"=\",str3[i])"
   ]
  },
  {
   "cell_type": "code",
   "execution_count": 61,
   "id": "fbb0116b-a640-448e-8950-d3d1d0f7da2f",
   "metadata": {},
   "outputs": [],
   "source": [
    "## We can use index to iterate string reverse direction"
   ]
  },
  {
   "cell_type": "code",
   "execution_count": 62,
   "id": "6641a19e-fbb4-44d5-be90-47eae13c9254",
   "metadata": {},
   "outputs": [
    {
     "data": {
      "text/plain": [
       "7"
      ]
     },
     "execution_count": 62,
     "metadata": {},
     "output_type": "execute_result"
    }
   ],
   "source": [
    "len(str3)-1"
   ]
  },
  {
   "cell_type": "code",
   "execution_count": 63,
   "id": "72e5b8d8-59a1-41fb-b142-6c02a0e88ebc",
   "metadata": {},
   "outputs": [
    {
     "name": "stdout",
     "output_type": "stream",
     "text": [
      "s\n",
      "l\n",
      "l\n",
      "i\n",
      "k\n",
      "s\n",
      "w\n",
      "P\n"
     ]
    }
   ],
   "source": [
    "for i in range(len(str3)-1,-1,-1):\n",
    "    print(str3[i])"
   ]
  },
  {
   "cell_type": "code",
   "execution_count": 64,
   "id": "54fae311-f8d0-4c6e-ad69-b7e9cdd5a0b5",
   "metadata": {},
   "outputs": [
    {
     "data": {
      "text/plain": [
       "7"
      ]
     },
     "execution_count": 64,
     "metadata": {},
     "output_type": "execute_result"
    }
   ],
   "source": [
    "string = \"pwskills\"\n",
    "ch = len(string)-1\n",
    "ch"
   ]
  },
  {
   "cell_type": "code",
   "execution_count": 65,
   "id": "df877d8e-8407-4297-b407-65cb00522d7c",
   "metadata": {},
   "outputs": [
    {
     "data": {
      "text/plain": [
       "('s', 'l', 'l', 'i', 'k')"
      ]
     },
     "execution_count": 65,
     "metadata": {},
     "output_type": "execute_result"
    }
   ],
   "source": [
    "string[7],string[6],string[5],string[4],string[3]"
   ]
  },
  {
   "cell_type": "code",
   "execution_count": 66,
   "id": "ad2f7342-8f3e-4efe-a3a3-4ae1be8eeed1",
   "metadata": {},
   "outputs": [
    {
     "name": "stdout",
     "output_type": "stream",
     "text": [
      "s\n",
      "l\n",
      "l\n",
      "i\n",
      "k\n",
      "s\n",
      "w\n",
      "p\n"
     ]
    }
   ],
   "source": [
    "while ch>=0:\n",
    "    print(string[ch])\n",
    "    ch = ch-1"
   ]
  },
  {
   "cell_type": "code",
   "execution_count": 67,
   "id": "05db468d-1de1-4359-b96c-914109dd8ed2",
   "metadata": {},
   "outputs": [
    {
     "name": "stdout",
     "output_type": "stream",
     "text": [
      "s\n",
      "l\n",
      "l\n",
      "i\n",
      "k\n",
      "s\n",
      "w\n",
      "p\n"
     ]
    }
   ],
   "source": [
    "## Best Solution\n",
    "for i in range(len(string)):\n",
    "    print(string[len(string) - (i+1)])"
   ]
  },
  {
   "cell_type": "code",
   "execution_count": 68,
   "id": "ecbd7963-514f-4574-b2f8-5f6bca9df21d",
   "metadata": {},
   "outputs": [],
   "source": [
    "Name = \"pwskills\"\n",
    "vowels = \"AaEeIiOoUu\""
   ]
  },
  {
   "cell_type": "code",
   "execution_count": 69,
   "id": "a98cc586-0cd5-4082-8de2-4dc6c2f50a23",
   "metadata": {},
   "outputs": [
    {
     "name": "stdout",
     "output_type": "stream",
     "text": [
      "p is not a vowel\n",
      "w is not a vowel\n",
      "s is not a vowel\n",
      "k is not a vowel\n",
      "i is a vowel\n",
      "l is not a vowel\n",
      "l is not a vowel\n",
      "s is not a vowel\n"
     ]
    }
   ],
   "source": [
    "for i in Name:\n",
    "    if i in vowels:\n",
    "        print(\"{} is a vowel\".format(i))\n",
    "    else:\n",
    "        print(\"{} is not a vowel\".format(i))"
   ]
  },
  {
   "cell_type": "markdown",
   "id": "ce4677bf-99fe-40ea-b188-3a2b4327eb28",
   "metadata": {},
   "source": [
    "## List"
   ]
  },
  {
   "cell_type": "code",
   "execution_count": 70,
   "id": "9a790f6e-b390-4771-95bc-b6f142ecd06e",
   "metadata": {},
   "outputs": [
    {
     "data": {
      "text/plain": [
       "[]"
      ]
     },
     "execution_count": 70,
     "metadata": {},
     "output_type": "execute_result"
    }
   ],
   "source": [
    "[]"
   ]
  },
  {
   "cell_type": "code",
   "execution_count": 71,
   "id": "1e34a968-e34c-47cb-83e6-291abd94551e",
   "metadata": {},
   "outputs": [
    {
     "data": {
      "text/plain": [
       "list"
      ]
     },
     "execution_count": 71,
     "metadata": {},
     "output_type": "execute_result"
    }
   ],
   "source": [
    "type([])"
   ]
  },
  {
   "cell_type": "code",
   "execution_count": 72,
   "id": "b1054f1d-3b57-4189-b588-f34e8d969b25",
   "metadata": {},
   "outputs": [
    {
     "data": {
      "text/plain": [
       "['Krish', 'Naik', 'Pwskills', 32]"
      ]
     },
     "execution_count": 72,
     "metadata": {},
     "output_type": "execute_result"
    }
   ],
   "source": [
    "[\"Krish\",\"Naik\",\"Pwskills\",32]"
   ]
  },
  {
   "cell_type": "code",
   "execution_count": 73,
   "id": "75965cfa-b51e-4606-920d-9feed176558c",
   "metadata": {},
   "outputs": [
    {
     "data": {
      "text/plain": [
       "[1, 2, 3, 4, 5, 6]"
      ]
     },
     "execution_count": 73,
     "metadata": {},
     "output_type": "execute_result"
    }
   ],
   "source": [
    "list([1,2,3,4,5,6])"
   ]
  },
  {
   "cell_type": "code",
   "execution_count": 74,
   "id": "769ec8db-3998-4a64-bbdd-716d323ce719",
   "metadata": {},
   "outputs": [
    {
     "data": {
      "text/plain": [
       "'Welcome to pwskills .Welcome to Dat cience Masters'"
      ]
     },
     "execution_count": 74,
     "metadata": {},
     "output_type": "execute_result"
    }
   ],
   "source": [
    "str1"
   ]
  },
  {
   "cell_type": "code",
   "execution_count": 75,
   "id": "aa6084f9-dc78-4f8f-81fd-7bc8e04dc59e",
   "metadata": {},
   "outputs": [
    {
     "data": {
      "text/plain": [
       "'Pwskills'"
      ]
     },
     "execution_count": 75,
     "metadata": {},
     "output_type": "execute_result"
    }
   ],
   "source": [
    "str3"
   ]
  },
  {
   "cell_type": "code",
   "execution_count": 76,
   "id": "717f374c-55f7-4b22-b92f-ca7e9002fe9d",
   "metadata": {},
   "outputs": [
    {
     "data": {
      "text/plain": [
       "['P', 'w', 's', 'k', 'i', 'l', 'l', 's']"
      ]
     },
     "execution_count": 76,
     "metadata": {},
     "output_type": "execute_result"
    }
   ],
   "source": [
    "list(str3)"
   ]
  },
  {
   "cell_type": "code",
   "execution_count": 77,
   "id": "f935b167-38af-48b9-ab84-1377433f3c44",
   "metadata": {},
   "outputs": [],
   "source": [
    "str1 = \"Pw Skills Data Science Masters\""
   ]
  },
  {
   "cell_type": "code",
   "execution_count": 78,
   "id": "f8fcc81e-6786-483f-83c0-466fe7d2f866",
   "metadata": {},
   "outputs": [
    {
     "data": {
      "text/plain": [
       "['Pw', 'Skills', 'Data', 'Science', 'Masters']"
      ]
     },
     "execution_count": 78,
     "metadata": {},
     "output_type": "execute_result"
    }
   ],
   "source": [
    "list(str1.split(\" \"))"
   ]
  },
  {
   "cell_type": "code",
   "execution_count": 79,
   "id": "d2e67e8d-a153-4241-bd02-42676ea42c52",
   "metadata": {},
   "outputs": [],
   "source": [
    "lst1 = str1.split(\" \")"
   ]
  },
  {
   "cell_type": "code",
   "execution_count": 80,
   "id": "c024967c-7f33-4d41-9e6c-227103751539",
   "metadata": {},
   "outputs": [
    {
     "data": {
      "text/plain": [
       "'Pw'"
      ]
     },
     "execution_count": 80,
     "metadata": {},
     "output_type": "execute_result"
    }
   ],
   "source": [
    "lst1[0]"
   ]
  },
  {
   "cell_type": "code",
   "execution_count": 81,
   "id": "9d845264-6b7e-448c-a432-e573c0c1506e",
   "metadata": {},
   "outputs": [
    {
     "data": {
      "text/plain": [
       "'Skills'"
      ]
     },
     "execution_count": 81,
     "metadata": {},
     "output_type": "execute_result"
    }
   ],
   "source": [
    "lst1[1]"
   ]
  },
  {
   "cell_type": "code",
   "execution_count": 82,
   "id": "3f82af48-2f05-4e53-9ddb-0334760dc353",
   "metadata": {},
   "outputs": [
    {
     "data": {
      "text/plain": [
       "['Skills', 'Data', 'Science', 'Masters']"
      ]
     },
     "execution_count": 82,
     "metadata": {},
     "output_type": "execute_result"
    }
   ],
   "source": [
    "lst1[1:]"
   ]
  },
  {
   "cell_type": "code",
   "execution_count": 83,
   "id": "41ba0c9c-38cf-4940-ab67-b847cc7eadc3",
   "metadata": {},
   "outputs": [],
   "source": [
    "lst1[2] = \"Datas\""
   ]
  },
  {
   "cell_type": "code",
   "execution_count": 84,
   "id": "ddaa52e8-4fdf-4100-b91d-3e339892a8d3",
   "metadata": {},
   "outputs": [
    {
     "data": {
      "text/plain": [
       "['Pw', 'Skills', 'Datas', 'Science', 'Masters']"
      ]
     },
     "execution_count": 84,
     "metadata": {},
     "output_type": "execute_result"
    }
   ],
   "source": [
    "lst1"
   ]
  },
  {
   "cell_type": "code",
   "execution_count": 85,
   "id": "90dd7b5b-8f7a-47a0-8634-0ec2954b4937",
   "metadata": {},
   "outputs": [
    {
     "data": {
      "text/plain": [
       "'Science'"
      ]
     },
     "execution_count": 85,
     "metadata": {},
     "output_type": "execute_result"
    }
   ],
   "source": [
    "lst1[-2]"
   ]
  },
  {
   "cell_type": "code",
   "execution_count": 86,
   "id": "5203192f-c79c-4eb6-917c-1d8834b9b545",
   "metadata": {},
   "outputs": [
    {
     "data": {
      "text/plain": [
       "['Masters', 'Datas', 'Pw']"
      ]
     },
     "execution_count": 86,
     "metadata": {},
     "output_type": "execute_result"
    }
   ],
   "source": [
    "lst1[::-2]"
   ]
  },
  {
   "cell_type": "code",
   "execution_count": 87,
   "id": "42569cd3-c167-413e-b96b-a0199f38f0ec",
   "metadata": {},
   "outputs": [
    {
     "data": {
      "text/plain": [
       "['Skills']"
      ]
     },
     "execution_count": 87,
     "metadata": {},
     "output_type": "execute_result"
    }
   ],
   "source": [
    "lst1[-4::-2]"
   ]
  },
  {
   "cell_type": "code",
   "execution_count": 88,
   "id": "9bf4af2b-af26-4271-b803-65e857393e64",
   "metadata": {},
   "outputs": [
    {
     "data": {
      "text/plain": [
       "['Pw']"
      ]
     },
     "execution_count": 88,
     "metadata": {},
     "output_type": "execute_result"
    }
   ],
   "source": [
    "lst1[-5::-2]"
   ]
  },
  {
   "cell_type": "code",
   "execution_count": 89,
   "id": "0a81bd2a-9ed4-4653-8749-5017040e272c",
   "metadata": {},
   "outputs": [
    {
     "data": {
      "text/plain": [
       "[]"
      ]
     },
     "execution_count": 89,
     "metadata": {},
     "output_type": "execute_result"
    }
   ],
   "source": [
    "lst1[-5:3:-2]"
   ]
  },
  {
   "cell_type": "code",
   "execution_count": 90,
   "id": "0126ae35-efc7-4c0a-8ec7-5091643da1ba",
   "metadata": {},
   "outputs": [
    {
     "data": {
      "text/plain": [
       "[]"
      ]
     },
     "execution_count": 90,
     "metadata": {},
     "output_type": "execute_result"
    }
   ],
   "source": [
    "lst1[-5:-3:-2]"
   ]
  },
  {
   "cell_type": "code",
   "execution_count": 91,
   "id": "c93275bc-1dfc-48a4-9e5c-49326d5d43a8",
   "metadata": {},
   "outputs": [
    {
     "data": {
      "text/plain": [
       "['Pw', 'Skills', 'Datas', 'Science', 'Masters']"
      ]
     },
     "execution_count": 91,
     "metadata": {},
     "output_type": "execute_result"
    }
   ],
   "source": [
    "lst1"
   ]
  },
  {
   "cell_type": "code",
   "execution_count": 92,
   "id": "e8e84c91-3ca6-47fc-9334-3b5d153bb8f1",
   "metadata": {},
   "outputs": [
    {
     "ename": "TypeError",
     "evalue": "can only concatenate list (not \"int\") to list",
     "output_type": "error",
     "traceback": [
      "\u001b[0;31m---------------------------------------------------------------------------\u001b[0m",
      "\u001b[0;31mTypeError\u001b[0m                                 Traceback (most recent call last)",
      "Cell \u001b[0;32mIn[92], line 2\u001b[0m\n\u001b[1;32m      1\u001b[0m \u001b[38;5;66;03m## concatenation operation\u001b[39;00m\n\u001b[0;32m----> 2\u001b[0m \u001b[43mlst1\u001b[49m\u001b[43m \u001b[49m\u001b[38;5;241;43m+\u001b[39;49m\u001b[43m \u001b[49m\u001b[38;5;241;43m1\u001b[39;49m\n",
      "\u001b[0;31mTypeError\u001b[0m: can only concatenate list (not \"int\") to list"
     ]
    }
   ],
   "source": [
    "## concatenation operation\n",
    "lst1 + 1"
   ]
  },
  {
   "cell_type": "code",
   "execution_count": 93,
   "id": "22ba10a0-38bb-4f2f-a802-14c225cc5420",
   "metadata": {},
   "outputs": [
    {
     "data": {
      "text/plain": [
       "['Pw', 'Skills', 'Datas', 'Science', 'Masters', 'New Element', 3]"
      ]
     },
     "execution_count": 93,
     "metadata": {},
     "output_type": "execute_result"
    }
   ],
   "source": [
    "lst1 + ['New Element',3]"
   ]
  },
  {
   "cell_type": "code",
   "execution_count": 94,
   "id": "fdc976ea-a9fc-4505-9291-97b752a8515a",
   "metadata": {},
   "outputs": [],
   "source": [
    "lst2 = lst1 + [['New Element',3]]"
   ]
  },
  {
   "cell_type": "code",
   "execution_count": 95,
   "id": "9f0a0ab1-8c40-4e26-8883-32f14d6c7308",
   "metadata": {},
   "outputs": [
    {
     "data": {
      "text/plain": [
       "['Pw', 'Skills', 'Datas', 'Science', 'Masters', ['New Element', 3]]"
      ]
     },
     "execution_count": 95,
     "metadata": {},
     "output_type": "execute_result"
    }
   ],
   "source": [
    "lst2"
   ]
  },
  {
   "cell_type": "code",
   "execution_count": 96,
   "id": "994fe25a-4641-4b50-bd91-aeaac3e15e6e",
   "metadata": {},
   "outputs": [
    {
     "data": {
      "text/plain": [
       "'New Element'"
      ]
     },
     "execution_count": 96,
     "metadata": {},
     "output_type": "execute_result"
    }
   ],
   "source": [
    "lst2[-1][0]"
   ]
  },
  {
   "cell_type": "code",
   "execution_count": 97,
   "id": "45ff9385-a489-427b-a19a-078ca1ae8b98",
   "metadata": {},
   "outputs": [
    {
     "data": {
      "text/plain": [
       "'New Element'"
      ]
     },
     "execution_count": 97,
     "metadata": {},
     "output_type": "execute_result"
    }
   ],
   "source": [
    "lst2[5][0]"
   ]
  },
  {
   "cell_type": "code",
   "execution_count": 98,
   "id": "463bff38-ecf3-4285-b4f2-24f64e750e66",
   "metadata": {},
   "outputs": [
    {
     "data": {
      "text/plain": [
       "['Pw',\n",
       " 'Skills',\n",
       " 'Datas',\n",
       " 'Science',\n",
       " 'Masters',\n",
       " 'Pw',\n",
       " 'Skills',\n",
       " 'Datas',\n",
       " 'Science',\n",
       " 'Masters']"
      ]
     },
     "execution_count": 98,
     "metadata": {},
     "output_type": "execute_result"
    }
   ],
   "source": [
    "lst1 * 2"
   ]
  },
  {
   "cell_type": "code",
   "execution_count": 99,
   "id": "fbd5d08a-2943-41eb-851d-7df78f806c39",
   "metadata": {},
   "outputs": [
    {
     "data": {
      "text/plain": [
       "['Pw', 'Skills', 'Datas', 'Science', 'Masters']"
      ]
     },
     "execution_count": 99,
     "metadata": {},
     "output_type": "execute_result"
    }
   ],
   "source": [
    "lst1"
   ]
  },
  {
   "cell_type": "code",
   "execution_count": 100,
   "id": "11c20e3d-d4ef-4aae-9010-597721cde9ea",
   "metadata": {},
   "outputs": [
    {
     "name": "stdout",
     "output_type": "stream",
     "text": [
      "Present\n"
     ]
    }
   ],
   "source": [
    "for i in lst1:\n",
    "    if \"Science\" in i: \n",
    "        print(\"Present\")"
   ]
  },
  {
   "cell_type": "code",
   "execution_count": 101,
   "id": "9a2163c0-6b8b-40e8-8944-affdd24501c4",
   "metadata": {},
   "outputs": [
    {
     "data": {
      "text/plain": [
       "True"
      ]
     },
     "execution_count": 101,
     "metadata": {},
     "output_type": "execute_result"
    }
   ],
   "source": [
    "## check elements inside a list\n",
    "lst = [1,2,3,4]\n",
    "4 in lst"
   ]
  },
  {
   "cell_type": "code",
   "execution_count": 102,
   "id": "9d5a8730-b2a7-4552-bb77-b64c52d80764",
   "metadata": {},
   "outputs": [],
   "source": [
    "lst1 = [\"Zebra\",\"Monkey\",\"Donkey\",\"Lion\"]\n",
    "lst2 = [5,6,2,9,5,8,6]"
   ]
  },
  {
   "cell_type": "code",
   "execution_count": 103,
   "id": "0834e965-049b-450f-91b3-7a211a4237c2",
   "metadata": {},
   "outputs": [
    {
     "name": "stdout",
     "output_type": "stream",
     "text": [
      "Zebra\n"
     ]
    }
   ],
   "source": [
    "print(max(lst1))"
   ]
  },
  {
   "cell_type": "code",
   "execution_count": 104,
   "id": "f0f9b898-9458-4790-837d-9ac01b59fce9",
   "metadata": {},
   "outputs": [
    {
     "data": {
      "text/plain": [
       "9"
      ]
     },
     "execution_count": 104,
     "metadata": {},
     "output_type": "execute_result"
    }
   ],
   "source": [
    "max(lst2)"
   ]
  },
  {
   "cell_type": "code",
   "execution_count": 105,
   "id": "5392e656-2053-459f-af19-aefd4db012e5",
   "metadata": {},
   "outputs": [
    {
     "data": {
      "text/plain": [
       "'Donkey'"
      ]
     },
     "execution_count": 105,
     "metadata": {},
     "output_type": "execute_result"
    }
   ],
   "source": [
    "min(lst1)"
   ]
  },
  {
   "cell_type": "code",
   "execution_count": 106,
   "id": "21f62d70-97fd-4526-9cb0-5f27b3484c59",
   "metadata": {},
   "outputs": [
    {
     "data": {
      "text/plain": [
       "2"
      ]
     },
     "execution_count": 106,
     "metadata": {},
     "output_type": "execute_result"
    }
   ],
   "source": [
    "min(lst2)"
   ]
  },
  {
   "cell_type": "code",
   "execution_count": 107,
   "id": "cd980170-d551-4d4b-9526-0bba0258077c",
   "metadata": {},
   "outputs": [],
   "source": [
    "## Append "
   ]
  },
  {
   "cell_type": "code",
   "execution_count": 108,
   "id": "2601453e-9bd7-45ce-bbae-c2b078109be8",
   "metadata": {},
   "outputs": [],
   "source": [
    "lst = [1,2,3,4,5,6]"
   ]
  },
  {
   "cell_type": "code",
   "execution_count": 109,
   "id": "ca1d3018-da7d-4bb1-a278-d655888e3460",
   "metadata": {},
   "outputs": [],
   "source": [
    "lst.append(\"Pwskills\")"
   ]
  },
  {
   "cell_type": "code",
   "execution_count": 110,
   "id": "cd683898-ff98-4a01-bc14-cd0222b444c7",
   "metadata": {},
   "outputs": [
    {
     "data": {
      "text/plain": [
       "[1, 2, 3, 4, 5, 6, 'Pwskills']"
      ]
     },
     "execution_count": 110,
     "metadata": {},
     "output_type": "execute_result"
    }
   ],
   "source": [
    "lst"
   ]
  },
  {
   "cell_type": "code",
   "execution_count": 111,
   "id": "4f6172c6-45ab-4248-b372-2c638b706fa4",
   "metadata": {},
   "outputs": [],
   "source": [
    "lst.append(['Data','Science','Masters'])"
   ]
  },
  {
   "cell_type": "code",
   "execution_count": 112,
   "id": "4e29c5a9-5750-4dc5-9bef-4c54e89ca04b",
   "metadata": {},
   "outputs": [
    {
     "data": {
      "text/plain": [
       "[1, 2, 3, 4, 5, 6, 'Pwskills', ['Data', 'Science', 'Masters']]"
      ]
     },
     "execution_count": 112,
     "metadata": {},
     "output_type": "execute_result"
    }
   ],
   "source": [
    "lst"
   ]
  },
  {
   "cell_type": "code",
   "execution_count": 113,
   "id": "51703c1e-dd68-4275-a292-8d3e5e6e1e97",
   "metadata": {},
   "outputs": [],
   "source": [
    "lst1 = [\"Zebra\",\"Monkey\",\"Donkey\",\"Lion\"]"
   ]
  },
  {
   "cell_type": "code",
   "execution_count": 114,
   "id": "5a05cb82-115b-4dd2-b03d-653527a3ea2b",
   "metadata": {},
   "outputs": [
    {
     "data": {
      "text/plain": [
       "'Lion'"
      ]
     },
     "execution_count": 114,
     "metadata": {},
     "output_type": "execute_result"
    }
   ],
   "source": [
    "lst1.pop()"
   ]
  },
  {
   "cell_type": "code",
   "execution_count": 115,
   "id": "bd18b180-25e0-4afc-ac5d-c6454311e001",
   "metadata": {},
   "outputs": [
    {
     "data": {
      "text/plain": [
       "['Zebra', 'Monkey', 'Donkey']"
      ]
     },
     "execution_count": 115,
     "metadata": {},
     "output_type": "execute_result"
    }
   ],
   "source": [
    "lst1"
   ]
  },
  {
   "cell_type": "code",
   "execution_count": 116,
   "id": "94d0eef5-ea7e-406f-928b-6c9c32ae96ac",
   "metadata": {},
   "outputs": [
    {
     "data": {
      "text/plain": [
       "'Donkey'"
      ]
     },
     "execution_count": 116,
     "metadata": {},
     "output_type": "execute_result"
    }
   ],
   "source": [
    "lst1.pop(2)"
   ]
  },
  {
   "cell_type": "code",
   "execution_count": 117,
   "id": "58a745c3-2358-46e9-abb2-b4b4d3349a38",
   "metadata": {},
   "outputs": [
    {
     "data": {
      "text/plain": [
       "['Zebra', 'Monkey']"
      ]
     },
     "execution_count": 117,
     "metadata": {},
     "output_type": "execute_result"
    }
   ],
   "source": [
    "lst1"
   ]
  },
  {
   "cell_type": "code",
   "execution_count": 118,
   "id": "a953a587-bf73-41e0-828f-a8aa0a846661",
   "metadata": {},
   "outputs": [],
   "source": [
    "lst1 = [\"Zebra\",\"Monkey\",\"Donkey\",\"Lion\"]"
   ]
  },
  {
   "cell_type": "code",
   "execution_count": 119,
   "id": "96e233b8-2015-4bcd-aa3d-138a04159b70",
   "metadata": {},
   "outputs": [
    {
     "data": {
      "text/plain": [
       "'Zebra'"
      ]
     },
     "execution_count": 119,
     "metadata": {},
     "output_type": "execute_result"
    }
   ],
   "source": [
    "removed_element = lst1.pop(0)\n",
    "removed_element"
   ]
  },
  {
   "cell_type": "code",
   "execution_count": 120,
   "id": "24219d43-02b5-4d8e-9c3b-40ef974264bc",
   "metadata": {},
   "outputs": [],
   "source": [
    "## Sorting and Reversed method in list"
   ]
  },
  {
   "cell_type": "code",
   "execution_count": 121,
   "id": "f643ec9a-99ff-49d1-b637-02f2f11d3190",
   "metadata": {},
   "outputs": [
    {
     "data": {
      "text/plain": [
       "['q', 'e', 'f', 's', 't', 'u']"
      ]
     },
     "execution_count": 121,
     "metadata": {},
     "output_type": "execute_result"
    }
   ],
   "source": [
    "new_list = ['q','e','f','s','t','u']\n",
    "new_list"
   ]
  },
  {
   "cell_type": "code",
   "execution_count": 122,
   "id": "69dc1218-1b34-4ba3-a9ed-1f60fa056024",
   "metadata": {},
   "outputs": [
    {
     "data": {
      "text/plain": [
       "['u', 't', 's', 'f', 'e', 'q']"
      ]
     },
     "execution_count": 122,
     "metadata": {},
     "output_type": "execute_result"
    }
   ],
   "source": [
    "new_list[::-1]"
   ]
  },
  {
   "cell_type": "code",
   "execution_count": 123,
   "id": "3593068d-aa05-4932-8b84-10212d677107",
   "metadata": {},
   "outputs": [],
   "source": [
    "# inplace operation\n",
    "new_list.reverse()"
   ]
  },
  {
   "cell_type": "code",
   "execution_count": 124,
   "id": "26bcecaf-7b3e-451f-a724-d4d34b2e86d4",
   "metadata": {},
   "outputs": [
    {
     "data": {
      "text/plain": [
       "['u', 't', 's', 'f', 'e', 'q']"
      ]
     },
     "execution_count": 124,
     "metadata": {},
     "output_type": "execute_result"
    }
   ],
   "source": [
    "new_list"
   ]
  },
  {
   "cell_type": "code",
   "execution_count": 125,
   "id": "d4c51e8f-a6d9-4ea4-aa3b-b00d74428fa7",
   "metadata": {},
   "outputs": [],
   "source": [
    "new_list.sort()"
   ]
  },
  {
   "cell_type": "code",
   "execution_count": 126,
   "id": "c9b715dd-a466-4a7f-8ca6-4cb4387e5f3c",
   "metadata": {},
   "outputs": [
    {
     "data": {
      "text/plain": [
       "['e', 'f', 'q', 's', 't', 'u']"
      ]
     },
     "execution_count": 126,
     "metadata": {},
     "output_type": "execute_result"
    }
   ],
   "source": [
    "new_list"
   ]
  },
  {
   "cell_type": "code",
   "execution_count": 127,
   "id": "21044798-d63c-4358-9759-dd3b2cd07b54",
   "metadata": {},
   "outputs": [],
   "source": [
    "lst = [1,2,3,4,5,6]\n",
    "lst.append(10)"
   ]
  },
  {
   "cell_type": "code",
   "execution_count": 128,
   "id": "480ab864-3e59-4f41-98bb-bbb77b20df2b",
   "metadata": {},
   "outputs": [],
   "source": [
    "lst.append(['PW','Skills'])"
   ]
  },
  {
   "cell_type": "code",
   "execution_count": 129,
   "id": "78f57443-bafc-4c55-aa6b-126cf51ecad9",
   "metadata": {},
   "outputs": [
    {
     "data": {
      "text/plain": [
       "[1, 2, 3, 4, 5, 6, 10, ['PW', 'Skills']]"
      ]
     },
     "execution_count": 129,
     "metadata": {},
     "output_type": "execute_result"
    }
   ],
   "source": [
    "lst"
   ]
  },
  {
   "cell_type": "code",
   "execution_count": 130,
   "id": "cf4f791c-0d4d-4392-923f-c7d73dccdbf7",
   "metadata": {},
   "outputs": [],
   "source": [
    "lst.extend(['PW','Skills'])"
   ]
  },
  {
   "cell_type": "code",
   "execution_count": 131,
   "id": "ba937281-35df-4e74-889c-9c3feb3626ec",
   "metadata": {},
   "outputs": [
    {
     "data": {
      "text/plain": [
       "[1, 2, 3, 4, 5, 6, 10, ['PW', 'Skills'], 'PW', 'Skills']"
      ]
     },
     "execution_count": 131,
     "metadata": {},
     "output_type": "execute_result"
    }
   ],
   "source": [
    "lst"
   ]
  },
  {
   "cell_type": "markdown",
   "id": "2a76107f-83dd-40b0-9a25-94dbcf4fdd16",
   "metadata": {},
   "source": [
    "## Nested List"
   ]
  },
  {
   "cell_type": "code",
   "execution_count": 132,
   "id": "8834e27d-f51f-4617-b2c7-fc61cde25027",
   "metadata": {},
   "outputs": [],
   "source": [
    "# Let's make three Lists\n",
    "lst_1 = [1,2,3]\n",
    "lst_2 = [4,5,6]\n",
    "lst_3 = [7,8,9]\n",
    "\n",
    "# Make a List of lists to form a matrix\n",
    "matrix = [lst_1,lst_2,lst_3]"
   ]
  },
  {
   "cell_type": "code",
   "execution_count": 133,
   "id": "d0129e2d-b842-450a-9dc3-dda45efc1174",
   "metadata": {},
   "outputs": [
    {
     "data": {
      "text/plain": [
       "[[1, 2, 3], [4, 5, 6], [7, 8, 9]]"
      ]
     },
     "execution_count": 133,
     "metadata": {},
     "output_type": "execute_result"
    }
   ],
   "source": [
    "matrix"
   ]
  },
  {
   "cell_type": "code",
   "execution_count": 134,
   "id": "0b757cc2-8cfa-43ba-881c-1f1f6a7bfa10",
   "metadata": {},
   "outputs": [
    {
     "data": {
      "text/plain": [
       "[1, 2, 3]"
      ]
     },
     "execution_count": 134,
     "metadata": {},
     "output_type": "execute_result"
    }
   ],
   "source": [
    "matrix[0]"
   ]
  },
  {
   "cell_type": "code",
   "execution_count": 135,
   "id": "58310057-3ab6-4f30-b36c-2e7968448e53",
   "metadata": {},
   "outputs": [
    {
     "data": {
      "text/plain": [
       "[4, 5, 6]"
      ]
     },
     "execution_count": 135,
     "metadata": {},
     "output_type": "execute_result"
    }
   ],
   "source": [
    "matrix[1]"
   ]
  },
  {
   "cell_type": "code",
   "execution_count": 136,
   "id": "8d358a7b-274c-44a4-8446-fb756b51fd58",
   "metadata": {},
   "outputs": [
    {
     "data": {
      "text/plain": [
       "[7, 8, 9]"
      ]
     },
     "execution_count": 136,
     "metadata": {},
     "output_type": "execute_result"
    }
   ],
   "source": [
    "matrix[2]"
   ]
  },
  {
   "cell_type": "code",
   "execution_count": 137,
   "id": "af10c1e2-677f-4af5-a6d4-dd870d02f059",
   "metadata": {},
   "outputs": [
    {
     "data": {
      "text/plain": [
       "6"
      ]
     },
     "execution_count": 137,
     "metadata": {},
     "output_type": "execute_result"
    }
   ],
   "source": [
    "matrix[1][2]"
   ]
  },
  {
   "cell_type": "code",
   "execution_count": 138,
   "id": "d0e1636d-8cae-400e-a6a7-357df5e412ab",
   "metadata": {},
   "outputs": [
    {
     "data": {
      "text/plain": [
       "[8, 9]"
      ]
     },
     "execution_count": 138,
     "metadata": {},
     "output_type": "execute_result"
    }
   ],
   "source": [
    "matrix[2][1:]"
   ]
  },
  {
   "cell_type": "code",
   "execution_count": 139,
   "id": "7ac36286-f25e-4e59-a7c7-a6c3299d75e4",
   "metadata": {},
   "outputs": [
    {
     "data": {
      "text/plain": [
       "[[1, 2, 3], [4, 5, 6], [7, 8, 9]]"
      ]
     },
     "execution_count": 139,
     "metadata": {},
     "output_type": "execute_result"
    }
   ],
   "source": [
    "matrix[:]"
   ]
  },
  {
   "cell_type": "code",
   "execution_count": 140,
   "id": "45ac3a00-9301-43fa-b3a4-6168cbc05c54",
   "metadata": {},
   "outputs": [
    {
     "data": {
      "text/plain": [
       "[[4, 5, 6], [7, 8, 9]]"
      ]
     },
     "execution_count": 140,
     "metadata": {},
     "output_type": "execute_result"
    }
   ],
   "source": [
    "matrix[1:]"
   ]
  },
  {
   "cell_type": "code",
   "execution_count": 141,
   "id": "2d347487-d26b-4bc0-8b82-8a4cdce48e08",
   "metadata": {},
   "outputs": [
    {
     "data": {
      "text/plain": [
       "[[1, 2, 3], [4, 5, 6], [7, 8, 9]]"
      ]
     },
     "execution_count": 141,
     "metadata": {},
     "output_type": "execute_result"
    }
   ],
   "source": [
    "matrix[0:3]"
   ]
  },
  {
   "cell_type": "code",
   "execution_count": 142,
   "id": "60ff595b-9f75-497c-8639-53ec3e6a68ec",
   "metadata": {},
   "outputs": [
    {
     "data": {
      "text/plain": [
       "[8, 9]"
      ]
     },
     "execution_count": 142,
     "metadata": {},
     "output_type": "execute_result"
    }
   ],
   "source": [
    "matrix[2][1:]"
   ]
  },
  {
   "cell_type": "code",
   "execution_count": 143,
   "id": "43631438-6a11-465a-9e44-49e843e22514",
   "metadata": {},
   "outputs": [
    {
     "data": {
      "text/plain": [
       "[0, 1, 2, 3, 4, 5, 6, 7, 8, 9, 10, 11, 12, 13, 14, 15, 16, 17, 18, 19]"
      ]
     },
     "execution_count": 143,
     "metadata": {},
     "output_type": "execute_result"
    }
   ],
   "source": [
    "## List Comprehension\n",
    "[i for i in range(20)]"
   ]
  },
  {
   "cell_type": "code",
   "execution_count": 146,
   "id": "b2e316d7-1dd3-41e7-8197-d2848d3e1b82",
   "metadata": {},
   "outputs": [
    {
     "data": {
      "text/plain": [
       "[0, '', 2, '', 4, '', 6, '', 8, '', 10, '', 12, '', 14, '', 16, '', 18, '']"
      ]
     },
     "execution_count": 146,
     "metadata": {},
     "output_type": "execute_result"
    }
   ],
   "source": [
    "## List Comprehension\n",
    "## Even Numbers\n",
    "[i if i%2==0 else \"\" for i in range(20)]"
   ]
  },
  {
   "cell_type": "code",
   "execution_count": 164,
   "id": "20e5d663-daaf-4dc9-8ce1-bf3d5b753414",
   "metadata": {},
   "outputs": [
    {
     "name": "stdout",
     "output_type": "stream",
     "text": [
      "20\n",
      "16\n"
     ]
    }
   ],
   "source": [
    "# Assignement\n",
    "## Sum of even numbers and odd nummbers\n",
    "lst = [1,2,3,4,5,6,7,8]\n",
    "sum_of_even_number = []\n",
    "sum_of_odd_number = []\n",
    "even_number = 0\n",
    "odd_number = 0\n",
    "\n",
    "for i in lst:\n",
    "    if i %2==0:\n",
    "        even_number = even_number + i\n",
    "        sum_of_even_number.append(even_number)\n",
    "    else:\n",
    "        odd_number = odd_number + i\n",
    "        sum_of_odd_number.append(odd_number)\n",
    "        sum_of_even_number.append(even_number)\n",
    "\n",
    "print(even_number)\n",
    "print(odd_number)"
   ]
  },
  {
   "cell_type": "code",
   "execution_count": 170,
   "id": "5b76d5d5-8ada-4ae1-a716-ed4d23cff51d",
   "metadata": {},
   "outputs": [],
   "source": [
    "even_sum = sum([num for num in lst if num%2==0])"
   ]
  },
  {
   "cell_type": "code",
   "execution_count": 171,
   "id": "03ce639c-f9db-46ab-822c-15e6d840a64c",
   "metadata": {},
   "outputs": [
    {
     "data": {
      "text/plain": [
       "20"
      ]
     },
     "execution_count": 171,
     "metadata": {},
     "output_type": "execute_result"
    }
   ],
   "source": [
    "even_sum"
   ]
  },
  {
   "cell_type": "code",
   "execution_count": 172,
   "id": "015587db-c9f8-41e6-870b-3e6e399e072b",
   "metadata": {},
   "outputs": [],
   "source": [
    "odd_sum = sum([num for num in lst if num%2!=0])"
   ]
  },
  {
   "cell_type": "code",
   "execution_count": 173,
   "id": "d559100a-5a74-44bf-93ae-90338a737ca3",
   "metadata": {},
   "outputs": [
    {
     "data": {
      "text/plain": [
       "16"
      ]
     },
     "execution_count": 173,
     "metadata": {},
     "output_type": "execute_result"
    }
   ],
   "source": [
    "odd_sum"
   ]
  },
  {
   "cell_type": "code",
   "execution_count": 174,
   "id": "e9b3cb1a-d020-4274-8170-3668849dfc1a",
   "metadata": {},
   "outputs": [
    {
     "data": {
      "text/plain": [
       "[1, 4, 9, 16, 25, 36, 49, 64, 81, 100]"
      ]
     },
     "execution_count": 174,
     "metadata": {},
     "output_type": "execute_result"
    }
   ],
   "source": [
    "lst = [1,2,3,4,5,6,7,8,9,10]\n",
    "[i**2 for i in lst]"
   ]
  },
  {
   "cell_type": "code",
   "execution_count": 177,
   "id": "4851a378-e549-4802-9b65-34c6b35ac09d",
   "metadata": {},
   "outputs": [
    {
     "data": {
      "text/plain": [
       "[1, 2, 3, 4]"
      ]
     },
     "execution_count": 177,
     "metadata": {},
     "output_type": "execute_result"
    }
   ],
   "source": [
    "# Example 2 : Create a List of only the postive numbers from a given list\n",
    "numbers = [-2,-1,0,1,2,3,4]\n",
    "[i for i in numbers if i > 0]"
   ]
  },
  {
   "cell_type": "code",
   "execution_count": 178,
   "id": "81c9dae3-cc29-40ba-b51c-53f57f95b0f1",
   "metadata": {},
   "outputs": [
    {
     "data": {
      "text/plain": [
       "['a', 'b', 'c', 'd']"
      ]
     },
     "execution_count": 178,
     "metadata": {},
     "output_type": "execute_result"
    }
   ],
   "source": [
    "# Example 3 : Cretae a list of only the first letters of words in a list\n",
    "words = ['apple','banana','cherry','date']\n",
    "[word[0] for word in words]\n",
    "    "
   ]
  },
  {
   "cell_type": "code",
   "execution_count": 180,
   "id": "ca71e8b5-49a3-4623-a27b-59d1bda26272",
   "metadata": {},
   "outputs": [],
   "source": [
    "# (9/5)*temp+32"
   ]
  },
  {
   "cell_type": "code",
   "execution_count": 182,
   "id": "50d4472d-5cb8-49fd-8d4c-71f3182a4c1d",
   "metadata": {},
   "outputs": [],
   "source": [
    "# Example 4 : Convert a list of temperatures from Celsius to Fahrenheit using List Comprehension \n",
    "celsius_temperatures = [0,10,20,30,40,50]"
   ]
  },
  {
   "cell_type": "code",
   "execution_count": 184,
   "id": "0e92e647-47b2-43c9-993e-d3a0aaf7874e",
   "metadata": {},
   "outputs": [
    {
     "data": {
      "text/plain": [
       "[32.0, 50.0, 68.0, 86.0, 104.0, 122.0]"
      ]
     },
     "execution_count": 184,
     "metadata": {},
     "output_type": "execute_result"
    }
   ],
   "source": [
    "[((9/5)*temp+32) for temp in celsius_temperatures]"
   ]
  },
  {
   "cell_type": "code",
   "execution_count": 185,
   "id": "0d56a8c8-3225-4b8b-a5b8-84f7b053127e",
   "metadata": {},
   "outputs": [],
   "source": [
    "# Example 5 : Flatten a List of lists into a single list\n",
    "lists = [[1,2,3],[4,5,6],[7,8,9]]"
   ]
  },
  {
   "cell_type": "code",
   "execution_count": 191,
   "id": "451b8cc1-6ecb-4638-8cf3-61bcc5ebc729",
   "metadata": {},
   "outputs": [
    {
     "data": {
      "text/plain": [
       "[1, 2, 3, 4, 5, 6, 7, 8, 9]"
      ]
     },
     "execution_count": 191,
     "metadata": {},
     "output_type": "execute_result"
    }
   ],
   "source": [
    "[num for sublist in lists for num in sublist]"
   ]
  },
  {
   "cell_type": "code",
   "execution_count": 1,
   "id": "0f0e5fc8-875c-4103-bb9f-19090f6f08a8",
   "metadata": {},
   "outputs": [],
   "source": [
    "## Assignement\n",
    "## Using bith code and list comprehension\n",
    "## Example 2: Create a List of only the prime numbers from a given list\n",
    "numbers = [1,2,3,4,5,6,7,8,9,10]"
   ]
  },
  {
   "cell_type": "code",
   "execution_count": null,
   "id": "cfe441a7-7884-40eb-838a-7885537ef924",
   "metadata": {},
   "outputs": [],
   "source": []
  },
  {
   "cell_type": "code",
   "execution_count": null,
   "id": "c129e46b-7f6a-4fe3-847e-9cdad368b11c",
   "metadata": {},
   "outputs": [],
   "source": []
  },
  {
   "cell_type": "code",
   "execution_count": null,
   "id": "cea7d4a6-8784-478f-82e7-e59d11bf24bc",
   "metadata": {},
   "outputs": [],
   "source": []
  },
  {
   "cell_type": "code",
   "execution_count": null,
   "id": "1b5fdc19-1c10-48bb-9391-79b1910c47c8",
   "metadata": {},
   "outputs": [],
   "source": []
  }
 ],
 "metadata": {
  "kernelspec": {
   "display_name": "Python 3 (ipykernel)",
   "language": "python",
   "name": "python3"
  },
  "language_info": {
   "codemirror_mode": {
    "name": "ipython",
    "version": 3
   },
   "file_extension": ".py",
   "mimetype": "text/x-python",
   "name": "python",
   "nbconvert_exporter": "python",
   "pygments_lexer": "ipython3",
   "version": "3.10.8"
  }
 },
 "nbformat": 4,
 "nbformat_minor": 5
}
