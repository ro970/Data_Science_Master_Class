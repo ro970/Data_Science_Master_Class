{
 "cells": [
  {
   "cell_type": "code",
   "execution_count": 2,
   "id": "b8acb212-90f3-472f-b712-c9cf8ca9a098",
   "metadata": {},
   "outputs": [],
   "source": [
    "a = 10"
   ]
  },
  {
   "cell_type": "code",
   "execution_count": 3,
   "id": "d7616dbe-3753-467f-b80b-566c5040c612",
   "metadata": {},
   "outputs": [
    {
     "data": {
      "text/plain": [
       "10"
      ]
     },
     "execution_count": 3,
     "metadata": {},
     "output_type": "execute_result"
    }
   ],
   "source": [
    "a"
   ]
  },
  {
   "cell_type": "markdown",
   "id": "b6b5cc16-15b0-4383-9a8c-594f2592a477",
   "metadata": {},
   "source": [
    "## Type Casting"
   ]
  },
  {
   "cell_type": "code",
   "execution_count": 4,
   "id": "b7018635-3e67-417c-9e4c-e58ccab784f8",
   "metadata": {},
   "outputs": [],
   "source": [
    "a = 'c'"
   ]
  },
  {
   "cell_type": "code",
   "execution_count": 6,
   "id": "3faadb9e-086f-4bbe-bce8-2e6bb11e15db",
   "metadata": {},
   "outputs": [
    {
     "data": {
      "text/plain": [
       "str"
      ]
     },
     "execution_count": 6,
     "metadata": {},
     "output_type": "execute_result"
    }
   ],
   "source": [
    "type(a)"
   ]
  },
  {
   "cell_type": "code",
   "execution_count": 7,
   "id": "4eed01d4-50cc-4140-8b1a-befcc0d6a119",
   "metadata": {},
   "outputs": [
    {
     "data": {
      "text/plain": [
       "int"
      ]
     },
     "execution_count": 7,
     "metadata": {},
     "output_type": "execute_result"
    }
   ],
   "source": [
    "int"
   ]
  },
  {
   "cell_type": "code",
   "execution_count": 8,
   "id": "d97a553d-b099-42ed-b6dc-d680fa1944bb",
   "metadata": {},
   "outputs": [
    {
     "data": {
      "text/plain": [
       "0"
      ]
     },
     "execution_count": 8,
     "metadata": {},
     "output_type": "execute_result"
    }
   ],
   "source": [
    "int()"
   ]
  },
  {
   "cell_type": "code",
   "execution_count": 10,
   "id": "67b82510-46ed-4983-9c7a-bf15870905ce",
   "metadata": {},
   "outputs": [
    {
     "data": {
      "text/plain": [
       "123"
      ]
     },
     "execution_count": 10,
     "metadata": {},
     "output_type": "execute_result"
    }
   ],
   "source": [
    "int('123')"
   ]
  },
  {
   "cell_type": "code",
   "execution_count": 11,
   "id": "c2799ae5-c997-4d0f-8ced-50a15783f261",
   "metadata": {},
   "outputs": [
    {
     "ename": "ValueError",
     "evalue": "invalid literal for int() with base 10: 'abcd'",
     "output_type": "error",
     "traceback": [
      "\u001b[0;31m---------------------------------------------------------------------------\u001b[0m",
      "\u001b[0;31mValueError\u001b[0m                                Traceback (most recent call last)",
      "Cell \u001b[0;32mIn[11], line 1\u001b[0m\n\u001b[0;32m----> 1\u001b[0m \u001b[38;5;28;43mint\u001b[39;49m\u001b[43m(\u001b[49m\u001b[38;5;124;43m'\u001b[39;49m\u001b[38;5;124;43mabcd\u001b[39;49m\u001b[38;5;124;43m'\u001b[39;49m\u001b[43m)\u001b[49m\n",
      "\u001b[0;31mValueError\u001b[0m: invalid literal for int() with base 10: 'abcd'"
     ]
    }
   ],
   "source": [
    "int('abcd')"
   ]
  },
  {
   "cell_type": "code",
   "execution_count": 12,
   "id": "ceecb25a-6574-4e0d-9b1e-766dc37c6bd6",
   "metadata": {},
   "outputs": [
    {
     "name": "stdout",
     "output_type": "stream",
     "text": [
      "Hello World\n"
     ]
    }
   ],
   "source": [
    "print(\"Hello World\")"
   ]
  },
  {
   "cell_type": "code",
   "execution_count": 13,
   "id": "fa32fb89-c34b-4111-ab87-691d3d46750f",
   "metadata": {},
   "outputs": [
    {
     "name": "stdout",
     "output_type": "stream",
     "text": [
      "123\n"
     ]
    }
   ],
   "source": [
    "print(123)"
   ]
  },
  {
   "cell_type": "code",
   "execution_count": 14,
   "id": "09b2ec3c-76c3-4a0a-af53-bf9f609c78c8",
   "metadata": {},
   "outputs": [
    {
     "name": "stdout",
     "output_type": "stream",
     "text": [
      "Hello World\n"
     ]
    }
   ],
   "source": [
    "print('Hello World')"
   ]
  },
  {
   "cell_type": "code",
   "execution_count": 15,
   "id": "be9c2f7f-292c-4cbb-a0e3-6b14c030e020",
   "metadata": {},
   "outputs": [
    {
     "name": "stdout",
     "output_type": "stream",
     "text": [
      "My age is: 32\n"
     ]
    }
   ],
   "source": [
    "age = 32\n",
    "print(\"My age is:\",age)"
   ]
  },
  {
   "cell_type": "code",
   "execution_count": 18,
   "id": "1a7cacb9-3b38-47ef-bfe8-0594d0f5639a",
   "metadata": {},
   "outputs": [
    {
     "name": "stdout",
     "output_type": "stream",
     "text": [
      "My age is : 32\n"
     ]
    }
   ],
   "source": [
    "## f string\n",
    "print(f\"My age is : {age}\")"
   ]
  },
  {
   "cell_type": "code",
   "execution_count": 20,
   "id": "5c48a6de-002e-4566-b3ce-c35484016018",
   "metadata": {},
   "outputs": [
    {
     "name": "stdout",
     "output_type": "stream",
     "text": [
      "My name is Ronit Agrawal and age is 21\n"
     ]
    }
   ],
   "source": [
    "## format ()\n",
    "name = \"Ronit Agrawal\"\n",
    "age = 21\n",
    "print(\"My name is {} and age is {}\".format(name,age))"
   ]
  },
  {
   "cell_type": "code",
   "execution_count": 21,
   "id": "a4b7dc4a-5608-428b-953e-4e84b257bb3e",
   "metadata": {},
   "outputs": [
    {
     "name": "stdout",
     "output_type": "stream",
     "text": [
      "My name is 21 and age is Ronit Agrawal\n"
     ]
    }
   ],
   "source": [
    "print(\"My name is {} and age is {}\".format(age,name))"
   ]
  },
  {
   "cell_type": "code",
   "execution_count": 22,
   "id": "4321ac92-46f3-41e8-8193-20ef3d56a538",
   "metadata": {},
   "outputs": [
    {
     "name": "stdout",
     "output_type": "stream",
     "text": [
      "My name is Ronit Agrawal and age is 21\n"
     ]
    }
   ],
   "source": [
    "#placeholder\n",
    "print(\"My name is {firstname} and age is {firstage}\".format(firstname=name,firstage=age))\n"
   ]
  },
  {
   "cell_type": "code",
   "execution_count": 23,
   "id": "2ca855bf-2396-4400-9d22-2bb07a656769",
   "metadata": {},
   "outputs": [],
   "source": [
    "name = \"Deepak Pandey\"\n",
    "age = 19\n",
    "degree = \"BA\""
   ]
  },
  {
   "cell_type": "code",
   "execution_count": 24,
   "id": "1f1f918f-0021-4570-bfc4-539e8d5dfb1d",
   "metadata": {},
   "outputs": [
    {
     "name": "stdout",
     "output_type": "stream",
     "text": [
      "My age is 19 and I have completed my degree of BA with the name of Deepak Pandey\n"
     ]
    }
   ],
   "source": [
    "print(\"My age is {} and I have completed my degree of {} with the name of {}\".format(age,degree,name))"
   ]
  },
  {
   "cell_type": "code",
   "execution_count": 25,
   "id": "f500b356-e5c7-4f90-a26c-c8a816ff6c00",
   "metadata": {},
   "outputs": [
    {
     "name": "stdout",
     "output_type": "stream",
     "text": [
      "My age is 19 and I have completed my degree of BA with the name of Deepak Pandey\n"
     ]
    }
   ],
   "source": [
    "print(f\"My age is {age} and I have completed my degree of {degree} with the name of {name}\")"
   ]
  },
  {
   "cell_type": "markdown",
   "id": "151ad9e7-0684-433a-8d12-bd61f2092476",
   "metadata": {},
   "source": [
    "## Control Flow\n",
    "## Decision Making Statements\n",
    "    * It is kind of making decision during occured situation of program execution and action can be taken according to specified conditions.\n",
    "    * Structure of decison making evaluate several expressions that provide True or False as a result.\n",
    "    * It is up to you to decide which type of actio want to take and execute the statements based upon True and False.\n",
    "    \n",
    "** These are several topics of decision making which going to be discussed below:**\n",
    "    1. **if**\n",
    "    2. **if else**\n",
    "    3. **if elif else**\n",
    "    4. **Nestd if**\n",
    "    5. **Single Statement Suites**"
   ]
  },
  {
   "cell_type": "code",
   "execution_count": 26,
   "id": "0b90face-7ab0-4332-bb5f-2152defc4c34",
   "metadata": {},
   "outputs": [
    {
     "name": "stdout",
     "output_type": "stream",
     "text": [
      "You are eligible to vote\n"
     ]
    }
   ],
   "source": [
    "## If Statements\n",
    "age = 18\n",
    "if (age>=18):\n",
    "    print(\"You are eligible to vote\")"
   ]
  },
  {
   "cell_type": "code",
   "execution_count": 1,
   "id": "557afa98-bb42-48b7-b965-bb059a168f38",
   "metadata": {},
   "outputs": [
    {
     "name": "stdout",
     "output_type": "stream",
     "text": [
      "You are  not eligible to vote\n"
     ]
    }
   ],
   "source": [
    "## If Statements\n",
    "age = 17\n",
    "if (age<18):\n",
    "    print(\"You are  not eligible to vote\")"
   ]
  },
  {
   "cell_type": "code",
   "execution_count": null,
   "id": "0acc87c7-382a-4dcf-a357-13b7ae840145",
   "metadata": {},
   "outputs": [],
   "source": [
    "==,>=,<="
   ]
  },
  {
   "cell_type": "code",
   "execution_count": 2,
   "id": "fafc6f39-5da3-4298-9f84-4a09904dc8f0",
   "metadata": {},
   "outputs": [
    {
     "name": "stdin",
     "output_type": "stream",
     "text": [
      " Ronit\n"
     ]
    },
    {
     "data": {
      "text/plain": [
       "'Ronit'"
      ]
     },
     "execution_count": 2,
     "metadata": {},
     "output_type": "execute_result"
    }
   ],
   "source": [
    "input()"
   ]
  },
  {
   "cell_type": "code",
   "execution_count": 3,
   "id": "c518160d-5e8f-45dd-a2ec-003b25a01fa5",
   "metadata": {},
   "outputs": [
    {
     "name": "stdin",
     "output_type": "stream",
     "text": [
      "Enter the Name: Ronit\n"
     ]
    }
   ],
   "source": [
    "name = input(\"Enter the Name:\")"
   ]
  },
  {
   "cell_type": "code",
   "execution_count": 4,
   "id": "b5796d40-6877-44e0-9b2b-ca8500830825",
   "metadata": {},
   "outputs": [
    {
     "data": {
      "text/plain": [
       "'Ronit'"
      ]
     },
     "execution_count": 4,
     "metadata": {},
     "output_type": "execute_result"
    }
   ],
   "source": [
    "name"
   ]
  },
  {
   "cell_type": "code",
   "execution_count": 5,
   "id": "5b870e2f-d52e-4fb2-9a24-e385c1f3d394",
   "metadata": {},
   "outputs": [
    {
     "data": {
      "text/plain": [
       "str"
      ]
     },
     "execution_count": 5,
     "metadata": {},
     "output_type": "execute_result"
    }
   ],
   "source": [
    "type(name)"
   ]
  },
  {
   "cell_type": "code",
   "execution_count": 6,
   "id": "806a5138-ca10-4333-8127-4ccab300267f",
   "metadata": {},
   "outputs": [
    {
     "name": "stdin",
     "output_type": "stream",
     "text": [
      "Enter Your Age: 21\n"
     ]
    }
   ],
   "source": [
    "age = int(input(\"Enter Your Age:\"))"
   ]
  },
  {
   "cell_type": "code",
   "execution_count": 7,
   "id": "c81f845a-9b6d-4dea-bd05-9a48e92fe429",
   "metadata": {},
   "outputs": [
    {
     "data": {
      "text/plain": [
       "21"
      ]
     },
     "execution_count": 7,
     "metadata": {},
     "output_type": "execute_result"
    }
   ],
   "source": [
    "age"
   ]
  },
  {
   "cell_type": "code",
   "execution_count": 8,
   "id": "3c19b3ab-a95b-408a-8314-43d522b6d600",
   "metadata": {},
   "outputs": [
    {
     "data": {
      "text/plain": [
       "int"
      ]
     },
     "execution_count": 8,
     "metadata": {},
     "output_type": "execute_result"
    }
   ],
   "source": [
    "type(age)"
   ]
  },
  {
   "cell_type": "code",
   "execution_count": 9,
   "id": "9be6e6c1-40ca-4675-ba1c-2323283a4f6e",
   "metadata": {},
   "outputs": [],
   "source": [
    "## Task\n",
    "## Take a input of age\n",
    "## check whether age>=18 and age<=45\n",
    "## display a message you are young blood"
   ]
  },
  {
   "cell_type": "code",
   "execution_count": 10,
   "id": "42bf6f72-2b72-4ed1-9c4d-7464b396d452",
   "metadata": {},
   "outputs": [
    {
     "name": "stdin",
     "output_type": "stream",
     "text": [
      "Enter Your Age: 21\n"
     ]
    },
    {
     "name": "stdout",
     "output_type": "stream",
     "text": [
      "You are Young Blood.\n"
     ]
    }
   ],
   "source": [
    "age = int(input(\"Enter Your Age:\"))\n",
    "if (age>=18) and (age<=45):\n",
    "    print(\"You are Young Blood.\")"
   ]
  },
  {
   "cell_type": "code",
   "execution_count": 12,
   "id": "ff51f4df-caa5-4a24-96a3-2f6c969f4fc4",
   "metadata": {},
   "outputs": [
    {
     "data": {
      "text/plain": [
       "True"
      ]
     },
     "execution_count": 12,
     "metadata": {},
     "output_type": "execute_result"
    }
   ],
   "source": [
    "22>=18 and 22<=45"
   ]
  },
  {
   "cell_type": "code",
   "execution_count": 13,
   "id": "5f134928-2208-448f-a795-db99f6d43c63",
   "metadata": {},
   "outputs": [
    {
     "data": {
      "text/plain": [
       "True"
      ]
     },
     "execution_count": 13,
     "metadata": {},
     "output_type": "execute_result"
    }
   ],
   "source": [
    "22 <=42"
   ]
  },
  {
   "cell_type": "code",
   "execution_count": 14,
   "id": "e5bcb5e0-5f3b-4497-8fab-0f360f93a7aa",
   "metadata": {},
   "outputs": [
    {
     "name": "stdin",
     "output_type": "stream",
     "text": [
      "Enter Your Age: 55\n"
     ]
    }
   ],
   "source": [
    "age = int(input(\"Enter Your Age:\"))\n",
    "if (age>=18) and (age<=45):\n",
    "    print(\"You are Young Blood.\")\n"
   ]
  },
  {
   "cell_type": "code",
   "execution_count": 15,
   "id": "f2080c72-168d-437c-a6f3-154e94100985",
   "metadata": {},
   "outputs": [],
   "source": [
    "## if else statements"
   ]
  },
  {
   "cell_type": "code",
   "execution_count": 16,
   "id": "2c2dcad1-6705-45af-990d-acd5cfc78793",
   "metadata": {},
   "outputs": [
    {
     "name": "stdin",
     "output_type": "stream",
     "text": [
      "Enter the Age 56\n"
     ]
    },
    {
     "name": "stdout",
     "output_type": "stream",
     "text": [
      "Thank you we will let you know.\n"
     ]
    }
   ],
   "source": [
    "age = int(input(\"Enter the Age\"))\n",
    "if (age>=18) and age <=45:\n",
    "    print(\"You are Young Blood\")\n",
    "else:\n",
    "    print(\"Thank you we will let you know.\")"
   ]
  },
  {
   "cell_type": "code",
   "execution_count": null,
   "id": "55a09947-239b-4750-9ef0-8506cf8f0759",
   "metadata": {},
   "outputs": [],
   "source": [
    "## mall  -  input the product price\n",
    "## product >1000 rs 20% off\n",
    "## print the product price\n",
    "## product <=1000 rs 30% off\n",
    "## print the product price\n",
    "## print the product price after removing the discount"
   ]
  },
  {
   "cell_type": "code",
   "execution_count": 30,
   "id": "08e492ca-9f92-4ef4-ae0e-f9512396354a",
   "metadata": {},
   "outputs": [
    {
     "name": "stdin",
     "output_type": "stream",
     "text": [
      "Enter Product Price: 30000\n"
     ]
    },
    {
     "name": "stdout",
     "output_type": "stream",
     "text": [
      "Discount on Product Price is 6000.0\n",
      "After Discounting Product Price is 24000.0\n"
     ]
    }
   ],
   "source": [
    "product_price = int(input(\"Enter Product Price:\"))\n",
    "if (product_price >1000):\n",
    "    product_discount_price = (product_price*20) / 100\n",
    "    print(f\"Discount on Product Price is {product_discount_price}\")\n",
    "    total_product_price = product_price - product_discount_price\n",
    "    print(f\"After Discounting Product Price is {total_product_price}\")\n",
    "   \n",
    "elif(product_price <1000):\n",
    "    product_discount_price = (product_price*30) / 100\n",
    "    print(f\"Discount on Product Price is {product_discount_price}\")\n",
    "    total_product_price = product_price - product_discount_price\n",
    "    print(f\"After Discounting Product Price is {total_product_price}\")\n",
    "else:\n",
    "    print(\"You are Not Eligible For Discount\")"
   ]
  },
  {
   "cell_type": "code",
   "execution_count": null,
   "id": "c767d5e9-ac6c-4269-8140-9ab9e802dc64",
   "metadata": {},
   "outputs": [],
   "source": [
    "## mall  -  input the product price\n",
    "## product >3000 rs 20% off\n",
    "## print the product price after removing the discount\n",
    "## product >=2000 rs and <=3000 rs 30% off\n",
    "## print the product price after removing the discount\n",
    "## product <=1000 rs and <=2000 40% off\n",
    "## print the product price after removing the discount"
   ]
  },
  {
   "cell_type": "code",
   "execution_count": 31,
   "id": "8215ee16-1659-4bac-873b-fe9566154540",
   "metadata": {},
   "outputs": [
    {
     "name": "stdin",
     "output_type": "stream",
     "text": [
      "Enter Product Price: 4000\n"
     ]
    },
    {
     "name": "stdout",
     "output_type": "stream",
     "text": [
      "Discount on Product Price is 800.0\n",
      "After Discounting Product Price is 3200.0\n"
     ]
    }
   ],
   "source": [
    "product_price = int(input(\"Enter Product Price:\"))\n",
    "\n",
    "if (product_price >3000):\n",
    "    product_discount_price = (product_price*20) / 100\n",
    "    print(f\"Discount on Product Price is {product_discount_price}\")\n",
    "    total_product_price = product_price - product_discount_price\n",
    "    print(f\"After Discounting Product Price is {total_product_price}\")\n",
    "   \n",
    "elif (product_price >= 2000) and (product_price <= 3000):\n",
    "    product_discount_price = (product_price*30) / 100\n",
    "    print(f\"Discount on Product Price is {product_discount_price}\")\n",
    "    total_product_price = product_price - product_discount_price\n",
    "    print(f\"After Discounting Product Price is {total_product_price}\")\n",
    "    \n",
    "elif (product_price <= 1000) and (product_price <= 2000):\n",
    "    product_discount_price = (product_price*40) / 100\n",
    "    print(f\"Discount on Product Price is {product_discount_price}\")\n",
    "    total_product_price = product_price - product_discount_price\n",
    "    print(f\"After Discounting Product Price is {total_product_price}\")\n",
    "    \n",
    "else:\n",
    "    print(\"You are Not Eligible For Discount\")"
   ]
  },
  {
   "cell_type": "code",
   "execution_count": null,
   "id": "b012924c-44f8-43b7-bd49-314d03bc2cca",
   "metadata": {},
   "outputs": [],
   "source": [
    "## mall  -  input the product price\n",
    "## product >3000 rs 20% off\n",
    "## print the product price after removing the discount\n",
    "## price is == 4000 you get a trip of goa\n",
    "## product >=2000 rs and <=3000 rs 30% off\n",
    "## print the product price after removing the discount\n",
    "## price == 2999 You will get additional gift\n",
    "## product <=1000 rs and <=2000 40% off\n",
    "## print the product price after removing the discount"
   ]
  },
  {
   "cell_type": "code",
   "execution_count": 35,
   "id": "e613f7fe-aa9a-407f-bbeb-0ad015a3a233",
   "metadata": {},
   "outputs": [
    {
     "name": "stdin",
     "output_type": "stream",
     "text": [
      "Enter Product Price: 2000\n"
     ]
    },
    {
     "name": "stdout",
     "output_type": "stream",
     "text": [
      "Discount on Product Price is 600.0\n",
      "After Discounting Product Price is 1400.0\n"
     ]
    }
   ],
   "source": [
    "product_price = int(input(\"Enter Product Price:\"))\n",
    "\n",
    "if (product_price >3000):\n",
    "    if(product_price==4000):\n",
    "        print(\"Congratulations You will get a trip of Goa.\")\n",
    "    product_discount_price = (product_price*20) / 100\n",
    "    print(f\"Discount on Product Price is {product_discount_price}\")\n",
    "    total_product_price = product_price - product_discount_price\n",
    "    print(f\"After Discounting Product Price is {total_product_price}\")\n",
    "   \n",
    "elif (product_price >= 2000) and (product_price <= 3000):\n",
    "    if(product_price == 2999):\n",
    "        print(\"Congratulations You Get An Additional Gift.\")\n",
    "    product_discount_price = (product_price*30) / 100\n",
    "    print(f\"Discount on Product Price is {product_discount_price}\")\n",
    "    total_product_price = product_price - product_discount_price\n",
    "    print(f\"After Discounting Product Price is {total_product_price}\")\n",
    "    \n",
    "elif (product_price <= 1000) and (product_price <= 2000):\n",
    "    product_discount_price = (product_price*40) / 100\n",
    "    print(f\"Discount on Product Price is {product_discount_price}\")\n",
    "    total_product_price = product_price - product_discount_price\n",
    "    print(f\"After Discounting Product Price is {total_product_price}\")\n",
    "    \n",
    "    \n",
    "else:\n",
    "    print(\"You are Not Eligible For Discount\")"
   ]
  },
  {
   "cell_type": "code",
   "execution_count": 34,
   "id": "084ccb02-f170-4241-881d-e10200562385",
   "metadata": {},
   "outputs": [],
   "source": [
    "## Single Statement"
   ]
  },
  {
   "cell_type": "code",
   "execution_count": 37,
   "id": "4696efc6-9941-493a-8342-c907766c0080",
   "metadata": {},
   "outputs": [
    {
     "name": "stdin",
     "output_type": "stream",
     "text": [
      "Enter the number: 1000\n"
     ]
    },
    {
     "name": "stdout",
     "output_type": "stream",
     "text": [
      "Go To Home\n"
     ]
    }
   ],
   "source": [
    "val = int(input(\"Enter the number:\"))\n",
    "if(val<=999):print(\"Value is less than equal to 999\")\n",
    "else:\n",
    "    print(\"Go To Home\")"
   ]
  },
  {
   "cell_type": "markdown",
   "id": "08311c78-ecb1-4761-a8d2-8e7a07c1f740",
   "metadata": {},
   "source": [
    "## Loops Statement\n",
    "1. While Loop\n",
    "2. For Loop\n",
    "3. Nested Loops\n",
    "4. Loop Control (break,continue,pass)"
   ]
  },
  {
   "cell_type": "code",
   "execution_count": 41,
   "id": "d41529cd-51e2-478e-bbec-50eec744d597",
   "metadata": {},
   "outputs": [
    {
     "name": "stdout",
     "output_type": "stream",
     "text": [
      "26\n",
      "27\n",
      "28\n",
      "29\n",
      "30\n",
      "31\n",
      "32\n",
      "33\n",
      "34\n",
      "35\n",
      "36\n",
      "37\n",
      "38\n",
      "39\n",
      "40\n",
      "41\n",
      "42\n",
      "43\n",
      "44\n",
      "45\n",
      "46\n",
      "47\n",
      "48\n",
      "49\n",
      "50\n",
      "51\n",
      "52\n",
      "53\n",
      "54\n",
      "55\n",
      "56\n",
      "57\n",
      "58\n",
      "59\n",
      "60\n",
      "61\n",
      "It's time for retirement\n"
     ]
    }
   ],
   "source": [
    "## while loop\n",
    "joining_age = 25\n",
    "i = 1\n",
    "\n",
    "while joining_age <= 60:\n",
    "    joining_age = joining_age + 1\n",
    "    print(joining_age)\n",
    "else:\n",
    "    print(\"It's time for retirement\")\n",
    "\n",
    "\n"
   ]
  },
  {
   "cell_type": "code",
   "execution_count": 43,
   "id": "015f26a8-5c89-497f-9eff-4726060e5b35",
   "metadata": {},
   "outputs": [
    {
     "name": "stdout",
     "output_type": "stream",
     "text": [
      "1000\n",
      "900\n",
      "800\n",
      "700\n",
      "600\n",
      "500\n",
      "400\n",
      "300\n",
      "200\n",
      "100\n",
      "Put More Money Bank People\n"
     ]
    }
   ],
   "source": [
    "### ATM Machine with 1000 Rs\n",
    "\n",
    "total_amount = 1000\n",
    "while total_amount != 0:\n",
    "    print(total_amount)\n",
    "    total_amount = total_amount - 100\n",
    "else:\n",
    "    print(\"Put More Money Bank People\")"
   ]
  },
  {
   "cell_type": "markdown",
   "id": "64d3795c-bfa8-400a-a1b7-aa0a90bc9635",
   "metadata": {},
   "source": [
    "## For Loop"
   ]
  },
  {
   "cell_type": "code",
   "execution_count": 1,
   "id": "1a75f643-9a93-4268-a1a2-2e68fc326c14",
   "metadata": {},
   "outputs": [],
   "source": [
    "lst = ['Krish',1,2,3,4,\"apple\",\"banana\"]"
   ]
  },
  {
   "cell_type": "code",
   "execution_count": 2,
   "id": "eb347d3c-ac29-4aaa-9bc0-c5b2fd1a4cbe",
   "metadata": {},
   "outputs": [
    {
     "data": {
      "text/plain": [
       "list"
      ]
     },
     "execution_count": 2,
     "metadata": {},
     "output_type": "execute_result"
    }
   ],
   "source": [
    "type(lst)"
   ]
  },
  {
   "cell_type": "code",
   "execution_count": 3,
   "id": "f5650a7f-3d37-469b-8706-ec8d5d96778f",
   "metadata": {},
   "outputs": [
    {
     "data": {
      "text/plain": [
       "'Krish'"
      ]
     },
     "execution_count": 3,
     "metadata": {},
     "output_type": "execute_result"
    }
   ],
   "source": [
    "lst[0]"
   ]
  },
  {
   "cell_type": "code",
   "execution_count": 4,
   "id": "3ffd2da1-4e71-49d6-b01a-ec4f26e5c050",
   "metadata": {},
   "outputs": [
    {
     "data": {
      "text/plain": [
       "4"
      ]
     },
     "execution_count": 4,
     "metadata": {},
     "output_type": "execute_result"
    }
   ],
   "source": [
    "lst[4]"
   ]
  },
  {
   "cell_type": "code",
   "execution_count": 5,
   "id": "9e8f5d2a-f5c4-40b6-b4d7-0cfe4fa59e55",
   "metadata": {},
   "outputs": [
    {
     "data": {
      "text/plain": [
       "['Krish', 1, 2, 3, 4, 'apple', 'banana']"
      ]
     },
     "execution_count": 5,
     "metadata": {},
     "output_type": "execute_result"
    }
   ],
   "source": [
    "lst"
   ]
  },
  {
   "cell_type": "code",
   "execution_count": 6,
   "id": "e66079cf-b160-41ca-b451-cd089380a633",
   "metadata": {},
   "outputs": [
    {
     "name": "stdout",
     "output_type": "stream",
     "text": [
      "Krish\n",
      "1\n",
      "2\n",
      "3\n",
      "4\n",
      "apple\n",
      "banana\n"
     ]
    }
   ],
   "source": [
    "for x in lst:\n",
    "    print(x)"
   ]
  },
  {
   "cell_type": "code",
   "execution_count": 7,
   "id": "4a5455e5-0d20-4aeb-a55d-4201d408bc89",
   "metadata": {},
   "outputs": [],
   "source": [
    "fruits_list = [\"Mango\",\"Cherry\",\"Apple\",\"Papaya\",\"Banana\"]"
   ]
  },
  {
   "cell_type": "code",
   "execution_count": 8,
   "id": "da4a0cf5-05f5-4566-881e-979d4ff3642f",
   "metadata": {},
   "outputs": [
    {
     "name": "stdout",
     "output_type": "stream",
     "text": [
      "Mango\n",
      "Cherry\n",
      "Apple\n",
      "Papaya\n",
      "Banana\n"
     ]
    }
   ],
   "source": [
    "for a in fruits_list:\n",
    "    print(a)\n",
    "   "
   ]
  },
  {
   "cell_type": "code",
   "execution_count": 9,
   "id": "cabe7724-b753-4202-b27c-f6e0c6da6a5a",
   "metadata": {},
   "outputs": [
    {
     "name": "stdout",
     "output_type": "stream",
     "text": [
      "Mango\n",
      "Cherry\n",
      "The Fruit is Cherry\n",
      "Apple\n",
      "Papaya\n",
      "Banana\n"
     ]
    }
   ],
   "source": [
    "for a in fruits_list:\n",
    "    print(a)\n",
    "    if a== \"Cherry\":\n",
    "        print(\"The Fruit is Cherry\")\n",
    "        "
   ]
  },
  {
   "cell_type": "code",
   "execution_count": 10,
   "id": "074170e4-bc83-4020-b682-4416f4878e07",
   "metadata": {},
   "outputs": [
    {
     "name": "stdout",
     "output_type": "stream",
     "text": [
      "m\n",
      "a\n",
      "n\n",
      "g\n",
      "o\n"
     ]
    }
   ],
   "source": [
    "fruit = 'mango'\n",
    "for x in fruit:\n",
    "    print(x)"
   ]
  },
  {
   "cell_type": "code",
   "execution_count": 11,
   "id": "ca4ab4f2-101f-4d5d-bc3a-2948827cd42c",
   "metadata": {},
   "outputs": [
    {
     "data": {
      "text/plain": [
       "'m'"
      ]
     },
     "execution_count": 11,
     "metadata": {},
     "output_type": "execute_result"
    }
   ],
   "source": [
    "fruit[0]"
   ]
  },
  {
   "cell_type": "code",
   "execution_count": null,
   "id": "4f25ba76-45da-4cf0-817e-c0c0d2c4379d",
   "metadata": {},
   "outputs": [],
   "source": [
    "### Nested Loops"
   ]
  },
  {
   "cell_type": "code",
   "execution_count": 13,
   "id": "ba39876c-c0ea-4ce4-b786-449d1759587b",
   "metadata": {},
   "outputs": [
    {
     "name": "stdout",
     "output_type": "stream",
     "text": [
      "1\n",
      "2\n",
      "3\n",
      "4\n",
      "5\n"
     ]
    }
   ],
   "source": [
    "for i in range(1,6):\n",
    "    print(i)"
   ]
  },
  {
   "cell_type": "code",
   "execution_count": 15,
   "id": "e7e3a0be-7842-4d59-8f81-326412418228",
   "metadata": {},
   "outputs": [
    {
     "name": "stdout",
     "output_type": "stream",
     "text": [
      "1\n",
      "3\n",
      "5\n",
      "7\n",
      "9\n"
     ]
    }
   ],
   "source": [
    "for i in range(1,10,2):\n",
    "    print(i)"
   ]
  },
  {
   "cell_type": "code",
   "execution_count": 19,
   "id": "be604aec-27a3-4dbe-980a-e1baaeb5d5da",
   "metadata": {},
   "outputs": [
    {
     "name": "stdout",
     "output_type": "stream",
     "text": [
      "*\n",
      "**\n",
      "***\n",
      "****\n",
      "*****\n",
      "******\n",
      "*******\n"
     ]
    }
   ],
   "source": [
    "n = 7\n",
    "\n",
    "for i in range(0,n):\n",
    "    for j in range(0,i+1):\n",
    "        print(\"*\",end='')\n",
    "    print(\"\\r\")"
   ]
  },
  {
   "cell_type": "code",
   "execution_count": 20,
   "id": "f5327930-64f4-4226-abd9-77a29c5c8436",
   "metadata": {},
   "outputs": [],
   "source": [
    "##Loop Controls\n",
    "## Break and Continue\n",
    "fruit_list = [\"Mango\",\"Cherry\",\"Apple\",\"Papaya\",\"Banana\"]"
   ]
  },
  {
   "cell_type": "code",
   "execution_count": 22,
   "id": "dfdbedab-5664-4636-8032-223e13cb2a9e",
   "metadata": {},
   "outputs": [
    {
     "name": "stdout",
     "output_type": "stream",
     "text": [
      "Mango\n",
      "Cherry\n",
      "The Fruit is Apple.\n"
     ]
    }
   ],
   "source": [
    "fruit_list = [\"Mango\",\"Cherry\",\"Apple\",\"Papaya\",\"Banana\"]\n",
    "for i in fruits_list:\n",
    "    if i==\"Apple\":\n",
    "        print(\"The Fruit is Apple.\")\n",
    "        break\n",
    "    print(i)"
   ]
  },
  {
   "cell_type": "code",
   "execution_count": 23,
   "id": "cefa2e8e-5a51-4406-909a-198c472a49ab",
   "metadata": {},
   "outputs": [
    {
     "name": "stdout",
     "output_type": "stream",
     "text": [
      "Mango\n",
      "Cherry\n",
      "The Fruit is Apple.\n",
      "Apple\n",
      "Papaya\n",
      "Banana\n"
     ]
    }
   ],
   "source": [
    "fruit_list = [\"Mango\",\"Cherry\",\"Apple\",\"Papaya\",\"Banana\"]\n",
    "for i in fruits_list:\n",
    "    if i==\"Apple\":\n",
    "        print(\"The Fruit is Apple.\")\n",
    "        pass\n",
    "    print(i)"
   ]
  },
  {
   "cell_type": "code",
   "execution_count": 24,
   "id": "a244cb6b-b86f-4d15-8380-50b705fc4f67",
   "metadata": {},
   "outputs": [
    {
     "name": "stdout",
     "output_type": "stream",
     "text": [
      "Mango\n",
      "Cherry\n",
      "The Fruit is Apple.\n",
      "Papaya\n",
      "Banana\n"
     ]
    }
   ],
   "source": [
    "fruit_list = [\"Mango\",\"Cherry\",\"Apple\",\"Papaya\",\"Banana\"]\n",
    "for i in fruits_list:\n",
    "    if i==\"Apple\":\n",
    "        print(\"The Fruit is Apple.\")\n",
    "        continue\n",
    "    print(i)"
   ]
  },
  {
   "cell_type": "code",
   "execution_count": 21,
   "id": "34b9063f-1367-4172-97bc-b234f5a3c20f",
   "metadata": {},
   "outputs": [],
   "source": []
  },
  {
   "cell_type": "code",
   "execution_count": 21,
   "id": "c95f5887-c396-46ee-9939-c8e9459b98a8",
   "metadata": {},
   "outputs": [],
   "source": []
  },
  {
   "cell_type": "code",
   "execution_count": 21,
   "id": "fb52ae15-4bad-41dd-b47e-948f98549d0d",
   "metadata": {},
   "outputs": [],
   "source": []
  },
  {
   "cell_type": "code",
   "execution_count": 21,
   "id": "4978dcbb-d176-4ae9-87de-ec3ba81d40ff",
   "metadata": {},
   "outputs": [],
   "source": []
  },
  {
   "cell_type": "code",
   "execution_count": 21,
   "id": "da761ffe-e0c5-49d8-b6e1-523e2d895d60",
   "metadata": {},
   "outputs": [],
   "source": []
  },
  {
   "cell_type": "code",
   "execution_count": 21,
   "id": "0bab5d44-e931-4283-9af0-eb9d6e07b468",
   "metadata": {},
   "outputs": [],
   "source": []
  },
  {
   "cell_type": "code",
   "execution_count": null,
   "id": "0049a00f-95a1-461a-aa6f-8b9966cec777",
   "metadata": {},
   "outputs": [],
   "source": []
  },
  {
   "cell_type": "code",
   "execution_count": null,
   "id": "3528f3a2-1886-406b-97c2-89c8f36a11ed",
   "metadata": {},
   "outputs": [],
   "source": []
  },
  {
   "cell_type": "code",
   "execution_count": null,
   "id": "faa3efeb-2364-4951-a1bc-1abb2b265971",
   "metadata": {},
   "outputs": [],
   "source": []
  },
  {
   "cell_type": "code",
   "execution_count": null,
   "id": "8f2d09e5-7652-45de-a799-07d018e308f2",
   "metadata": {},
   "outputs": [],
   "source": []
  },
  {
   "cell_type": "code",
   "execution_count": null,
   "id": "f8250a66-862c-490c-a3c2-0b27725dec28",
   "metadata": {},
   "outputs": [],
   "source": []
  },
  {
   "cell_type": "code",
   "execution_count": null,
   "id": "b5ddd503-d25c-4c58-8b07-93e3ad80fd9f",
   "metadata": {},
   "outputs": [],
   "source": []
  },
  {
   "cell_type": "code",
   "execution_count": null,
   "id": "b02cc07e-216d-47d5-8fd6-2af15f0fbf3d",
   "metadata": {},
   "outputs": [],
   "source": []
  },
  {
   "cell_type": "code",
   "execution_count": null,
   "id": "c44b35c5-4382-4f87-a1d4-e58cd91de5ae",
   "metadata": {},
   "outputs": [],
   "source": []
  }
 ],
 "metadata": {
  "kernelspec": {
   "display_name": "Python 3 (ipykernel)",
   "language": "python",
   "name": "python3"
  },
  "language_info": {
   "codemirror_mode": {
    "name": "ipython",
    "version": 3
   },
   "file_extension": ".py",
   "mimetype": "text/x-python",
   "name": "python",
   "nbconvert_exporter": "python",
   "pygments_lexer": "ipython3",
   "version": "3.10.8"
  }
 },
 "nbformat": 4,
 "nbformat_minor": 5
}
